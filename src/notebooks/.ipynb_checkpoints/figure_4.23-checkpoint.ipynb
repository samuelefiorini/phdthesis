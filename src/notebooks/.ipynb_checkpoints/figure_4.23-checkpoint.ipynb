{
 "cells": [
  {
   "cell_type": "markdown",
   "metadata": {},
   "source": [
    "# Chapter 4: Machine Learning state of the art\n",
    "## Figure 4.25\n",
    "Silhouette analysis."
   ]
  },
  {
   "cell_type": "code",
   "execution_count": 15,
   "metadata": {},
   "outputs": [],
   "source": [
    "import numpy as np\n",
    "import pandas as pd\n",
    "import matplotlib.pyplot as plt\n",
    "%matplotlib inline\n",
    "\n",
    "plt.style.use('seaborn-paper')\n",
    "plt.rc('text', usetex=False)"
   ]
  },
  {
   "cell_type": "markdown",
   "metadata": {},
   "source": [
    "# Run spectral clustering on the digits data"
   ]
  },
  {
   "cell_type": "code",
   "execution_count": 16,
   "metadata": {},
   "outputs": [
    {
     "name": "stdout",
     "output_type": "stream",
     "text": [
      "359 x 64\n"
     ]
    }
   ],
   "source": [
    "from sklearn.cluster import SpectralClustering\n",
    "from sklearn.model_selection import StratifiedShuffleSplit\n",
    "from sklearn import datasets\n",
    "\n",
    "X, y = datasets.load_digits(return_X_y=True)\n",
    "\n",
    "# Import some data to play with\n",
    "data = datasets.load_digits()\n",
    "X = data.data\n",
    "y = data.target\n",
    "\n",
    "# shuffle and split training and test sets\n",
    "sss = StratifiedShuffleSplit(n_splits=1, test_size=.80, random_state=0)\n",
    "idx_train, idx_test = next(sss.split(X, y))\n",
    "X_train, X_test, y_train, y_test = X[idx_train, :], X[idx_test, :], y[idx_train], y[idx_test]\n",
    "print(\"{} x {}\".format(*X_train.shape))"
   ]
  },
  {
   "cell_type": "markdown",
   "metadata": {},
   "source": [
    "# Make silhouette plot\n",
    "The function `silhouette(data_in, labels, model)` is a lite version of [`adenine.core.plotting.silhouette`](https://github.com/slipguru/adenine/blob/master/adenine/core/plotting.py)."
   ]
  },
  {
   "cell_type": "code",
   "execution_count": 28,
   "metadata": {},
   "outputs": [],
   "source": [
    "from sklearn import metrics\n",
    "    \n",
    "def silhouette(data_in, labels, model):\n",
    "    \"\"\"Make a silhouette plot.\n",
    "    \n",
    "    Parameters\n",
    "    -----------\n",
    "    data_in : array of float, shape : (n_samples, n_dimensions)\n",
    "        The low space embedding estimated by the dimensionality reduction and\n",
    "        manifold learning algorithm.\n",
    "    labels : array of float, shape : n_samples\n",
    "        The label vector. It can contain true or estimated labels.\n",
    "    model : sklearn or sklearn-like object\n",
    "        An instance of the class that evaluates a step.\n",
    "    \"\"\"\n",
    "    # Create a subplot with 1 row and 2 columns\n",
    "    fig, (ax1) = plt.subplots(1, 1)\n",
    "    fig.set_size_inches(20, 15)\n",
    "\n",
    "    # The silhouette coefficient can range from -1, 1\n",
    "    ax1.set_xlim([-1, 1])\n",
    "    \n",
    "    # The (n_clusters+1)*10 is for inserting blank space between silhouette\n",
    "    # plots of individual clusters.\n",
    "    n_clusters = np.unique(labels).shape[0]\n",
    "    ax1.set_ylim([0, len(data_in) + (n_clusters + 1) * 10])\n",
    "\n",
    "    # Set the metric to euclidean.\n",
    "    metric = 'euclidean'\n",
    "    \n",
    "    # Compute silhouette values\n",
    "    sample_silhouette_values = metrics.silhouette_samples(data_in, labels, metric=metric)\n",
    "    sil = np.mean(sample_silhouette_values)\n",
    "        \n",
    "    y_lower = 10\n",
    "    for i, label in enumerate(np.unique(labels)):\n",
    "        # Aggregate the silhouette scores for samples belonging to\n",
    "        # cluster i, and sort them\n",
    "        ith_cluster_silhouette_values = sample_silhouette_values[labels == label]\n",
    "        ith_cluster_silhouette_values.sort()\n",
    "\n",
    "        size_cluster_i = ith_cluster_silhouette_values.shape[0]\n",
    "        y_upper = y_lower + size_cluster_i\n",
    "\n",
    "        color = lambda i: 'C'+str(i%10) # return something in ['C0' - 'C9']\n",
    "        ax1.fill_betweenx(np.arange(y_lower, y_upper),\n",
    "                          0, ith_cluster_silhouette_values,\n",
    "                          facecolor=color(i), edgecolor=color, alpha=0.7)\n",
    "\n",
    "        # Label the silhouette plots with their cluster numbers at the middle\n",
    "        ax1.text(-0.05, y_lower + 0.5 * size_cluster_i, str(label))\n",
    "\n",
    "        # Compute the new y_lower for next plot\n",
    "        y_lower = y_upper + 10  # 10 for the 0 samples\n",
    "\n",
    "    # ax1.set_title(\"Silhouette plot for the various clusters.\")\n",
    "    ax1.set_xlabel(\"silhouette coefficient values\")\n",
    "    ax1.set_ylabel(\"cluster label\")\n",
    "\n",
    "    # The vertical line for average silhoutte score of all the values\n",
    "    ax1.axvline(x=sil, color=\"red\", linestyle=\"--\")\n",
    "    ax1.set_yticks([])\n",
    "    # ax1.set_xticks([-0.6, -0.4, -0.2, 0, 0.2, 0.4, 0.6, 0.8, 1])\n",
    "\n",
    "    plt.suptitle(\"Silhouette analysis. \"\n",
    "                 \"{0} clusters for {2} samples, average score {1:.4f}\".format(n_clusters, sil, data_in.shape[0]))\n",
    "    \n",
    "    return fig"
   ]
  },
  {
   "cell_type": "code",
   "execution_count": 29,
   "metadata": {},
   "outputs": [
    {
     "data": {
      "text/plain": [
       "array([-0.22397719, -0.23399544, -0.1021312 , -0.0102504 , -0.17850169,\n",
       "       -0.09403174, -0.09475297, -0.18256891, -0.28486892, -0.05264567,\n",
       "       -0.08565584,  0.00730379, -0.04623484, -0.17704738,  0.07887887,\n",
       "       -0.10479469, -0.0503495 , -0.16660145, -0.15626536, -0.129928  ,\n",
       "       -0.14694327, -0.22856099, -0.18143075, -0.03161776, -0.16093478,\n",
       "       -0.20640503, -0.22952513, -0.18592217, -0.34203281, -0.00951123,\n",
       "       -0.16463044, -0.20422527, -0.13226975, -0.15009769, -0.14403682,\n",
       "       -0.02835278, -0.3000164 , -0.01237184, -0.00287692, -0.12764062,\n",
       "       -0.11910582, -0.15607991, -0.03754923, -0.15594195, -0.1593196 ,\n",
       "       -0.13288655, -0.27111114, -0.21157566,  0.01317202, -0.04841824,\n",
       "       -0.0789829 , -0.20584735, -0.17097107, -0.18107359, -0.16741603,\n",
       "       -0.23283171, -0.01654168, -0.24818599, -0.22861956, -0.01553419,\n",
       "       -0.33855628, -0.19129874, -0.11209979, -0.2680061 , -0.17878404,\n",
       "       -0.21638929, -0.28957438, -0.03354306, -0.06335701, -0.15734098,\n",
       "       -0.13750862, -0.31522647, -0.31163034, -0.17870812, -0.2561727 ,\n",
       "       -0.01772538, -0.21840542, -0.19727949,  0.00699445, -0.10000242,\n",
       "       -0.23843434, -0.15507028, -0.07093779, -0.23267785, -0.09291956,\n",
       "       -0.27487164, -0.04459587, -0.10078452, -0.07504879, -0.08147921,\n",
       "       -0.0937984 , -0.12108494, -0.10317955, -0.26906486, -0.20935364,\n",
       "       -0.13350506, -0.06561998, -0.02574154, -0.12412864, -0.11748327,\n",
       "       -0.20775763, -0.00766794, -0.06829907, -0.06684904, -0.05712978,\n",
       "       -0.11006449, -0.15056459, -0.2426816 , -0.17833628, -0.14466037,\n",
       "       -0.18184942, -0.30106154, -0.1847774 , -0.17190273, -0.23869933,\n",
       "       -0.13986703, -0.07790425, -0.21209976, -0.21499848, -0.19196861,\n",
       "       -0.19224031, -0.07163027, -0.12925012, -0.15148154, -0.18366899,\n",
       "       -0.16835727, -0.04913049, -0.28441674, -0.11529218, -0.10753478,\n",
       "       -0.13776117, -0.14930243, -0.32535719, -0.20201049, -0.16591564,\n",
       "       -0.31622006, -0.06959147, -0.20140965, -0.18229526, -0.22035748,\n",
       "       -0.11672594, -0.10408973, -0.21423466, -0.24228656, -0.31618365,\n",
       "       -0.21027579, -0.09588249, -0.00775917, -0.10814561, -0.22515593,\n",
       "       -0.11450116, -0.03936101, -0.29597757, -0.13080578, -0.19244945,\n",
       "       -0.05160901,  0.        , -0.04932775, -0.20886033, -0.18184621,\n",
       "       -0.31886496, -0.00129937, -0.27300192, -0.09699113, -0.18463249,\n",
       "       -0.10090413, -0.07110834, -0.23691004, -0.06645249, -0.17286228,\n",
       "       -0.20759435, -0.05207657, -0.01432096, -0.12177993, -0.04485356,\n",
       "       -0.17480496, -0.26696959, -0.13219188, -0.09213992, -0.09896673,\n",
       "       -0.18759946, -0.09658463, -0.13856092, -0.18038401, -0.1548866 ,\n",
       "       -0.00863347, -0.02311959, -0.06662171, -0.13006883, -0.10937718,\n",
       "       -0.30895484, -0.13939495, -0.17360008, -0.02021792, -0.03199572,\n",
       "       -0.31169837, -0.13728569, -0.20676936, -0.21582171, -0.03765069,\n",
       "       -0.26961422, -0.07599269, -0.16412661, -0.2236179 , -0.17127608,\n",
       "       -0.11487462, -0.04122968, -0.05637476, -0.2537846 , -0.34075141,\n",
       "       -0.00996708, -0.07676691, -0.078578  , -0.12703288, -0.22375417,\n",
       "       -0.04501257, -0.26099897, -0.21946592, -0.26328252,  0.15271398,\n",
       "       -0.21096889, -0.36422145, -0.13392719, -0.37389684, -0.22144373,\n",
       "       -0.17304911, -0.0491099 , -0.11405542, -0.30819962, -0.16719965,\n",
       "       -0.11965833, -0.15049494, -0.19769395, -0.00660722, -0.11256763,\n",
       "       -0.12526957, -0.33574773, -0.24866858, -0.20539061, -0.21795251,\n",
       "       -0.03769312, -0.1063045 , -0.08002001, -0.10644071, -0.16151045,\n",
       "       -0.12886728, -0.08577714, -0.21489333, -0.23042851, -0.13005026,\n",
       "       -0.19964964, -0.08664735, -0.14556662, -0.03512873, -0.18089611,\n",
       "       -0.06117098,  0.01566581, -0.13360993, -0.00975322, -0.35250202,\n",
       "       -0.19285262, -0.07224006, -0.16371465, -0.03509849,  0.        ,\n",
       "       -0.15387406, -0.28191059, -0.2351116 , -0.27545554, -0.06847992,\n",
       "       -0.18862986, -0.02267341, -0.10847922, -0.05952993, -0.22716054,\n",
       "       -0.07825215, -0.14721293, -0.13213661, -0.3402159 , -0.06043054,\n",
       "       -0.05554268, -0.24830347, -0.09458873, -0.17279414, -0.23613381,\n",
       "        0.01980642, -0.16120845, -0.34106247, -0.04584061, -0.04547015,\n",
       "       -0.19082955, -0.18657994, -0.19127562, -0.0617007 , -0.17949033,\n",
       "       -0.26811491, -0.07295368, -0.03331656, -0.22987461, -0.22144396,\n",
       "       -0.0921012 , -0.05424816, -0.16950755, -0.23921459, -0.12491255,\n",
       "       -0.07217749, -0.1157676 , -0.01289651, -0.04120166, -0.0226714 ,\n",
       "       -0.03376839, -0.11526874, -0.10921314, -0.26752561, -0.13235597,\n",
       "       -0.12899782, -0.18993204, -0.12279291, -0.04051905, -0.22951628,\n",
       "       -0.28604709, -0.30073569, -0.32733032, -0.29671045, -0.19292608,\n",
       "       -0.22827021, -0.20294935,  0.00049604, -0.07766018, -0.03080195,\n",
       "       -0.06776763, -0.14313071, -0.03093876, -0.04141892, -0.16712561,\n",
       "       -0.15754101, -0.29616575, -0.23598278, -0.08217318, -0.02555694,\n",
       "       -0.19852862, -0.13742819, -0.1922801 ,  0.00641162, -0.29373389,\n",
       "       -0.16339669, -0.01808823, -0.19260365, -0.10749249, -0.23667342,\n",
       "       -0.1987214 , -0.30930253, -0.06282706, -0.32524342, -0.07046573,\n",
       "       -0.4229833 , -0.26665957, -0.21180222, -0.09429054])"
      ]
     },
     "execution_count": 29,
     "metadata": {},
     "output_type": "execute_result"
    },
    {
     "data": {
      "image/png": "[encoded data removed]",
      "text/plain": [
       "<matplotlib.figure.Figure at 0x7fea21be5b90>"
      ]
     },
     "metadata": {},
     "output_type": "display_data"
    }
   ],
   "source": [
    "# run clustering\n",
    "model = SpectralClustering(n_clusters=10)\n",
    "\n",
    "silhouette(X_train, model.fit_predict(X_train), model)"
   ]
  },
  {
   "cell_type": "code",
   "execution_count": 32,
   "metadata": {},
   "outputs": [
    {
     "data": {
      "text/plain": [
       "'C1'"
      ]
     },
     "execution_count": 32,
     "metadata": {},
     "output_type": "execute_result"
    }
   ],
   "source": [
    "\n"
   ]
  },
  {
   "cell_type": "code",
   "execution_count": null,
   "metadata": {},
   "outputs": [],
   "source": []
  }
 ],
 "metadata": {
  "kernelspec": {
   "display_name": "Python 2",
   "language": "python",
   "name": "python2"
  },
  "language_info": {
   "codemirror_mode": {
    "name": "ipython",
    "version": 2
   },
   "file_extension": ".py",
   "mimetype": "text/x-python",
   "name": "python",
   "nbconvert_exporter": "python",
   "pygments_lexer": "ipython2",
   "version": "2.7.13"
  }
 },
 "nbformat": 4,
 "nbformat_minor": 2
}
