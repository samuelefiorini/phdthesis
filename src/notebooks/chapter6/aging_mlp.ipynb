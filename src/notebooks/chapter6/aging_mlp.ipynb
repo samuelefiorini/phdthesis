{
 "cells": [
  {
   "cell_type": "markdown",
   "metadata": {},
   "source": [
    "# Chapter 4: Machine Learning state of the art\n",
    "## Figure 4.17-19\n",
    "Multilayer Perceptron on the aging problem."
   ]
  },
  {
   "cell_type": "code",
   "execution_count": 21,
   "metadata": {},
   "outputs": [],
   "source": [
    "import numpy as np\n",
    "import pandas as pd\n",
    "import matplotlib.pyplot as plt\n",
    "%matplotlib inline\n",
    "\n",
    "plt.style.use('seaborn-paper')\n",
    "plt.rc('text', usetex=False)"
   ]
  },
  {
   "cell_type": "markdown",
   "metadata": {},
   "source": [
    "# 0. Load data\n",
    "see `figure_4.5-13.ipynb`"
   ]
  },
  {
   "cell_type": "code",
   "execution_count": 22,
   "metadata": {},
   "outputs": [
    {
     "name": "stdout",
     "output_type": "stream",
     "text": [
      "12 variables\n",
      "74 training samples\n",
      "37 test samples\n"
     ]
    }
   ],
   "source": [
    "# Load the data (drop NaNs)\n",
    "df = pd.read_csv('../data/aging_data.csv', header=0, index_col=0).dropna()\n",
    "columns = df.columns.drop(['age'])\n",
    "\n",
    "# Learning data\n",
    "dfx = df[columns]\n",
    "\n",
    "# Learning labels\n",
    "dfy = df['age']\n",
    "\n",
    "# Convert gender [m/f] in [0,1]\n",
    "dfx.loc[:, 'gender'] = dfx['gender'].apply(lambda x: int(x == 'f'))\n",
    "\n",
    "# Preprocess data\n",
    "from sklearn.preprocessing import StandardScaler\n",
    "\n",
    "dfx.iloc[:,1:] = StandardScaler().fit_transform(dfx.values[:,1:])\n",
    "\n",
    "from sklearn.model_selection import train_test_split\n",
    "\n",
    "x_train, x_test, y_train, y_test = train_test_split(dfx, dfy, test_size=0.33, random_state=42)\n",
    "\n",
    "print('{} variables'.format(x_train.shape[1]))\n",
    "print('{} training samples'.format(x_train.shape[0]))\n",
    "print('{} test samples'.format(x_test.shape[0]))"
   ]
  },
  {
   "cell_type": "markdown",
   "metadata": {},
   "source": [
    "# 1. Fit `MLPRegressor`"
   ]
  },
  {
   "cell_type": "code",
   "execution_count": 26,
   "metadata": {},
   "outputs": [
    {
     "name": "stdout",
     "output_type": "stream",
     "text": [
      "n hidden units: [1024]\n",
      "alpha: 0.0088586679041\n",
      "activation: relu\n",
      "n_iter_: 329\n",
      "EVS: 0.78841\n",
      "R2: 0.775\n",
      "MAE: 9.139\n"
     ]
    }
   ],
   "source": [
    "from sklearn.neural_network import MLPRegressor\n",
    "from sklearn.model_selection import GridSearchCV\n",
    "from sklearn import metrics\n",
    "\n",
    "np.random.seed(0)\n",
    "model = GridSearchCV(MLPRegressor(early_stopping=True, max_iter=1000,\n",
    "                                  hidden_layer_sizes=[1024], activation='relu'),\n",
    "                     param_grid={'alpha': np.logspace(-5, 2, 20)}, n_jobs=-1)\n",
    "model.fit(x_train.values, y_train.values)\n",
    "\n",
    "y_pred = model.predict(x_test)\n",
    "mae = metrics.mean_absolute_error(y_test, y_pred)\n",
    "r2 = metrics.r2_score(y_test, y_pred)\n",
    "evs = metrics.explained_variance_score(y_test, y_pred)\n",
    "\n",
    "print('n hidden units: {}'.format(model.best_estimator_.hidden_layer_sizes))\n",
    "print('alpha: {}'.format(model.best_estimator_.alpha))\n",
    "print('activation: {}'.format(model.best_estimator_.activation))\n",
    "print('n_iter_: {}'.format(model.best_estimator_.n_iter_))\n",
    "print('EVS: {:2.5f}'.format(evs))\n",
    "print('R2: {:2.3f}'.format(r2))\n",
    "print('MAE: {:2.3f}'.format(mae))"
   ]
  },
  {
   "cell_type": "code",
   "execution_count": null,
   "metadata": {},
   "outputs": [],
   "source": []
  }
 ],
 "metadata": {
  "kernelspec": {
   "display_name": "Python 2",
   "language": "python",
   "name": "python2"
  },
  "language_info": {
   "codemirror_mode": {
    "name": "ipython",
    "version": 2
   },
   "file_extension": ".py",
   "mimetype": "text/x-python",
   "name": "python",
   "nbconvert_exporter": "python",
   "pygments_lexer": "ipython2",
   "version": "2.7.14"
  }
 },
 "nbformat": 4,
 "nbformat_minor": 2
}
