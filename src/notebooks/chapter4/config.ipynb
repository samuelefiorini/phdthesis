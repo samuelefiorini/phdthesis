{
 "cells": [
  {
   "cell_type": "code",
   "execution_count": null,
   "metadata": {},
   "outputs": [],
   "source": [
    "from adenine.utils import data_source\n",
    "data_file = 'GSE87211_data.csv'\n",
    "labels_file = 'GSE87211_labels.csv'\n",
    "X, y, feat_names, index = data_source.load(\n",
    "    'custom', data_file, labels_file, samples_on='rows', sep=',')\n",
    "step1 = {'Recenter': [True]}\n",
    "step2 = {'KernelPCA': [True, {'kernel': ['linear', 'rbf', 'poly']}],\n",
    "         'Isomap': [True, {'n_neighbors': 5}]}\n",
    "step3 = {'KMeans': [True, {'n_clusters': ['auto', 2]}]}"
   ]
  }
 ],
 "metadata": {
  "kernelspec": {
   "display_name": "Python 2",
   "language": "python",
   "name": "python2"
  },
  "language_info": {
   "codemirror_mode": {
    "name": "ipython",
    "version": 2
   },
   "file_extension": ".py",
   "mimetype": "text/x-python",
   "name": "python",
   "nbconvert_exporter": "python",
   "pygments_lexer": "ipython2",
   "version": "2.7.13"
  }
 },
 "nbformat": 4,
 "nbformat_minor": 2
}
