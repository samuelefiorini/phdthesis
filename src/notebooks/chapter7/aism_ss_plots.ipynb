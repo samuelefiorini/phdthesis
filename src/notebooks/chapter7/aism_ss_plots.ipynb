{
 "cells": [
  {
   "cell_type": "markdown",
   "metadata": {},
   "source": [
    "# Chapter 7: stability selection plots\n",
    "Plot the result of the variable selection procedure."
   ]
  },
  {
   "cell_type": "code",
   "execution_count": 38,
   "metadata": {},
   "outputs": [],
   "source": [
    "import os\n",
    "import cPickle as pkl\n",
    "import numpy as np\n",
    "import pandas as pd\n",
    "import matplotlib.pyplot as plt\n",
    "%matplotlib inline\n",
    "\n",
    "plt.style.use('seaborn-paper')\n",
    "plt.rc('text', usetex=False)\n",
    "\n",
    "import warnings\n",
    "warnings.filterwarnings('ignore')"
   ]
  },
  {
   "cell_type": "markdown",
   "metadata": {},
   "source": [
    "# 0. load `.pkl` files"
   ]
  },
  {
   "cell_type": "code",
   "execution_count": 92,
   "metadata": {},
   "outputs": [
    {
     "name": "stdout",
     "output_type": "stream",
     "text": [
      "random_forests not finished yet\n"
     ]
    }
   ],
   "source": [
    "def load_pkl(filename):\n",
    "    \"\"\"Load the input pkl file.\"\"\"\n",
    "    with open(filename,'rb') as f:\n",
    "        dd = pkl.load(f)\n",
    "    return dd\n",
    "\n",
    "# Model names\n",
    "names = ['gradient_boosting', 'random_forests', 'l1l2',\n",
    "        'l2_logistic_regression', 'l1_logistic_regression',\n",
    "        'linear_svc_l2', 'linear_svc_l1']\n",
    "\n",
    "tails = ['_scores', '_coefs']\n",
    "\n",
    "scores = {}\n",
    "coefs = {}\n",
    "\n",
    "# Load the pickles\n",
    "for name in names:\n",
    "    try:\n",
    "        scores[name] = load_pkl(os.path.join('..', '..', 'scripts', 'aism', name+tails[0]+'.pkl'))\n",
    "        coefs[name] = load_pkl(os.path.join('..', '..', 'scripts', 'aism', name+tails[1]+'.pkl'))\n",
    "    except:\n",
    "        print('{} not finished yet'.format(name))"
   ]
  },
  {
   "cell_type": "markdown",
   "metadata": {},
   "source": [
    "# 1. Plot classification cv scores (step 1)"
   ]
  },
  {
   "cell_type": "code",
   "execution_count": 93,
   "metadata": {},
   "outputs": [],
   "source": [
    "def plot_score(scores, show_figure=False, tag=''):\n",
    "    \"\"\"Plot the scores exploring the scores dictionary.\n",
    "    \n",
    "    scores: list of dicts having metrics (recall, AUC, MCC, precision, accuracy) as keys\n",
    "    save_figure: bool\n",
    "    tag: filename tail\n",
    "    \"\"\"    \n",
    "    # Init the empty lists\n",
    "    rcll = []\n",
    "    auc = []\n",
    "    mcc = []\n",
    "    prec = []\n",
    "    acc = []\n",
    "    \n",
    "    \n",
    "    # Explore each cv iter\n",
    "    for cv in scores:\n",
    "        rcll.append(cv['recall'])\n",
    "        auc.append(cv['AUC'])\n",
    "        mcc.append(cv['MCC'])\n",
    "        prec.append(cv['precision'])\n",
    "        acc.append(cv['accuracy'])\n",
    "    cv_results_ = {'recall': rcll, 'AUC': auc, 'MCC': mcc,\n",
    "                   'precision': prec, 'accuracy': acc}\n",
    "    cv_results_ = pd.DataFrame(cv_results_)\n",
    "\n",
    "    if show_figure:\n",
    "        plt.figure(dpi=300)\n",
    "    \n",
    "        # Plot each metric\n",
    "        for i, metric in enumerate(cv_results_.columns):\n",
    "            plt.subplot(3, 2, i+1)\n",
    "            plt.hist(cv_results_[metric], bins=20)\n",
    "            plt.title(r'{} = ({:.3f} $\\pm$ {:.3f})'.format(metric,\n",
    "                                                          np.mean(cv_results_[metric]),\n",
    "                                                          np.std(cv_results_[metric])))\n",
    "        plt.suptitle('{}'.format(tag.replace('_', ' ').title()), y=1.05)\n",
    "        plt.tight_layout()\n",
    "        plt.savefig(os.path.join('..', '..', 'images', 'aism_scores_{}.png'.format(tag)))\n",
    "    \n",
    "    return cv_results_"
   ]
  },
  {
   "cell_type": "code",
   "execution_count": 95,
   "metadata": {},
   "outputs": [
    {
     "name": "stdout",
     "output_type": "stream",
     "text": [
      "random_forests not finished yet\n"
     ]
    },
    {
     "data": {
      "text/html": [
       "<div>\n",
       "<style scoped>\n",
       "    .dataframe tbody tr th:only-of-type {\n",
       "        vertical-align: middle;\n",
       "    }\n",
       "\n",
       "    .dataframe tbody tr th {\n",
       "        vertical-align: top;\n",
       "    }\n",
       "\n",
       "    .dataframe thead th {\n",
       "        text-align: right;\n",
       "    }\n",
       "</style>\n",
       "<table border=\"1\" class=\"dataframe\">\n",
       "  <thead>\n",
       "    <tr style=\"text-align: right;\">\n",
       "      <th></th>\n",
       "      <th>AUC</th>\n",
       "      <th>MCC</th>\n",
       "      <th>accuracy</th>\n",
       "      <th>precision</th>\n",
       "      <th>recall</th>\n",
       "    </tr>\n",
       "  </thead>\n",
       "  <tbody>\n",
       "    <tr>\n",
       "      <th>gradient_boosting</th>\n",
       "      <td>(0.802 $\\pm$ 0.013)</td>\n",
       "      <td>(0.606 $\\pm$ 0.026)</td>\n",
       "      <td>(0.805 $\\pm$ 0.013)</td>\n",
       "      <td>(0.821 $\\pm$ 0.022)</td>\n",
       "      <td>(0.832 $\\pm$ 0.039)</td>\n",
       "    </tr>\n",
       "    <tr>\n",
       "      <th>random_forests</th>\n",
       "      <td>NaN</td>\n",
       "      <td>NaN</td>\n",
       "      <td>NaN</td>\n",
       "      <td>NaN</td>\n",
       "      <td>NaN</td>\n",
       "    </tr>\n",
       "    <tr>\n",
       "      <th>l1l2</th>\n",
       "      <td>(0.807 $\\pm$ 0.016)</td>\n",
       "      <td>(0.613 $\\pm$ 0.032)</td>\n",
       "      <td>(0.806 $\\pm$ 0.016)</td>\n",
       "      <td>(0.845 $\\pm$ 0.031)</td>\n",
       "      <td>(0.799 $\\pm$ 0.042)</td>\n",
       "    </tr>\n",
       "    <tr>\n",
       "      <th>l2_logistic_regression</th>\n",
       "      <td>(0.811 $\\pm$ 0.015)</td>\n",
       "      <td>(0.619 $\\pm$ 0.029)</td>\n",
       "      <td>(0.807 $\\pm$ 0.015)</td>\n",
       "      <td>(0.864 $\\pm$ 0.020)</td>\n",
       "      <td>(0.775 $\\pm$ 0.027)</td>\n",
       "    </tr>\n",
       "    <tr>\n",
       "      <th>l1_logistic_regression</th>\n",
       "      <td>(0.817 $\\pm$ 0.014)</td>\n",
       "      <td>(0.630 $\\pm$ 0.028)</td>\n",
       "      <td>(0.813 $\\pm$ 0.014)</td>\n",
       "      <td>(0.865 $\\pm$ 0.018)</td>\n",
       "      <td>(0.787 $\\pm$ 0.023)</td>\n",
       "    </tr>\n",
       "    <tr>\n",
       "      <th>linear_svc_l2</th>\n",
       "      <td>(0.810 $\\pm$ 0.016)</td>\n",
       "      <td>(0.616 $\\pm$ 0.032)</td>\n",
       "      <td>(0.806 $\\pm$ 0.016)</td>\n",
       "      <td>(0.858 $\\pm$ 0.023)</td>\n",
       "      <td>(0.782 $\\pm$ 0.028)</td>\n",
       "    </tr>\n",
       "    <tr>\n",
       "      <th>linear_svc_l1</th>\n",
       "      <td>(0.818 $\\pm$ 0.015)</td>\n",
       "      <td>(0.632 $\\pm$ 0.029)</td>\n",
       "      <td>(0.814 $\\pm$ 0.015)</td>\n",
       "      <td>(0.870 $\\pm$ 0.021)</td>\n",
       "      <td>(0.782 $\\pm$ 0.027)</td>\n",
       "    </tr>\n",
       "  </tbody>\n",
       "</table>\n",
       "</div>"
      ],
      "text/plain": [
       "                                        AUC                  MCC  \\\n",
       "gradient_boosting       (0.802 $\\pm$ 0.013)  (0.606 $\\pm$ 0.026)   \n",
       "random_forests                          NaN                  NaN   \n",
       "l1l2                    (0.807 $\\pm$ 0.016)  (0.613 $\\pm$ 0.032)   \n",
       "l2_logistic_regression  (0.811 $\\pm$ 0.015)  (0.619 $\\pm$ 0.029)   \n",
       "l1_logistic_regression  (0.817 $\\pm$ 0.014)  (0.630 $\\pm$ 0.028)   \n",
       "linear_svc_l2           (0.810 $\\pm$ 0.016)  (0.616 $\\pm$ 0.032)   \n",
       "linear_svc_l1           (0.818 $\\pm$ 0.015)  (0.632 $\\pm$ 0.029)   \n",
       "\n",
       "                                   accuracy            precision  \\\n",
       "gradient_boosting       (0.805 $\\pm$ 0.013)  (0.821 $\\pm$ 0.022)   \n",
       "random_forests                          NaN                  NaN   \n",
       "l1l2                    (0.806 $\\pm$ 0.016)  (0.845 $\\pm$ 0.031)   \n",
       "l2_logistic_regression  (0.807 $\\pm$ 0.015)  (0.864 $\\pm$ 0.020)   \n",
       "l1_logistic_regression  (0.813 $\\pm$ 0.014)  (0.865 $\\pm$ 0.018)   \n",
       "linear_svc_l2           (0.806 $\\pm$ 0.016)  (0.858 $\\pm$ 0.023)   \n",
       "linear_svc_l1           (0.814 $\\pm$ 0.015)  (0.870 $\\pm$ 0.021)   \n",
       "\n",
       "                                     recall  \n",
       "gradient_boosting       (0.832 $\\pm$ 0.039)  \n",
       "random_forests                          NaN  \n",
       "l1l2                    (0.799 $\\pm$ 0.042)  \n",
       "l2_logistic_regression  (0.775 $\\pm$ 0.027)  \n",
       "l1_logistic_regression  (0.787 $\\pm$ 0.023)  \n",
       "linear_svc_l2           (0.782 $\\pm$ 0.028)  \n",
       "linear_svc_l1           (0.782 $\\pm$ 0.027)  "
      ]
     },
     "execution_count": 95,
     "metadata": {},
     "output_type": "execute_result"
    }
   ],
   "source": [
    "# Create the scoreboard\n",
    "scoreboard = pd.DataFrame(index=names, columns=[u'AUC', u'MCC', u'accuracy',\n",
    "                                                u'precision', u'recall'])\n",
    "for name in names:\n",
    "    try:\n",
    "        df = plot_score(scores[name], show_figure=False, tag=name)\n",
    "        for col in scoreboard.columns:\n",
    "            scoreboard[col].loc[name] = r'({:.3f} $\\pm$ {:.3f})'.format(df.mean()[col],\n",
    "                                                                df.std()[col])\n",
    "    except:\n",
    "        print('{} not finished yet'.format(name))\n",
    "    \n",
    "\n",
    "\n",
    "scoreboard"
   ]
  },
  {
   "cell_type": "markdown",
   "metadata": {},
   "source": [
    "# 2. Plot variable ranking"
   ]
  },
  {
   "cell_type": "code",
   "execution_count": 109,
   "metadata": {},
   "outputs": [],
   "source": [
    "def flatten(x):\n",
    "    \"\"\"Flatten a list.\"\"\"\n",
    "    return [y for l in x for y in flatten(l)] if type(x) in (list, np.ndarray) else [x]"
   ]
  },
  {
   "cell_type": "code",
   "execution_count": 111,
   "metadata": {},
   "outputs": [
    {
     "name": "stdout",
     "output_type": "stream",
     "text": [
      "Counter({'FIM (012': 74, 'FIM (SUB6': 26})\n",
      "random_forests not finished yet\n",
      "Counter({'ABILH001': 2915})\n",
      "Counter({'ABILH001': 16498})\n",
      "Counter({'ABILH001': 6132})\n",
      "Counter({'FIM (012': 100, 'FIM (011': 100, 'FIM (010': 100, 'HADS 007': 100, 'SDMT TOT': 100, 'FIM (006': 99, 'FIM (SUB5': 98, 'ABILH018': 97, 'HADS 002': 95, 'FIM (SUB6': 94, 'HADS 013': 92, 'FIM (016': 92, 'FIM (017': 91, 'ABILH012': 90, 'FIM (008': 89, 'EDINB001_2': 88, 'ABILH021': 86, 'ABILH009': 80, 'FIM (003': 79, 'MFIS 002': 74, 'HADS 005': 72, 'FIM (002': 69, 'FIM (009': 65, 'ABILH007': 63, 'MFIS 003': 61, 'MFIS 009': 61, 'MFIS 012': 60, 'EDINB001_1': 60, 'MFIS 014': 59, 'FIM (004': 57, 'EDINB002_0': 55, 'MOCA 005': 55, 'ABILHTOT': 55, 'HEIG': 55, 'ABILHSUB1': 54, 'LIFE 004': 53, 'FIM (014': 52, 'FIM (SUB3': 50, 'HADS 012': 49, 'MOCA 001': 49, 'ABILH020': 49, 'LIFE 010': 49, 'MFIS 019': 49, 'MFIS SUB1': 49, 'HADS 003': 48, 'EDINB002_2': 48, 'HADS SUB1': 47, 'FIM (015': 46, 'OAB-Q002': 45, 'HADS SUB2': 45, 'MOCA 010': 44, 'HADS TOT': 44, 'HADS 009': 43, 'FIM (019': 43, 'HADS 004': 43, 'OAB-Q007': 43, 'MFIS 008': 43, 'EDINB003_2': 43, 'HADS 001': 42, 'MFIS SUB2': 42, 'MFIS 016': 41, 'HADS 011': 40, 'OAB-Q005': 40, 'LIFE 011': 40, 'MFIS 010': 39, 'FIM (013': 38, 'MOCA 009': 38, 'MFIS 015': 38, 'OAB-Q003': 38, 'MFIS 001': 38, 'ABILH017': 38, 'HADS 014': 37, 'LIFE TOT': 37, 'ABILH015': 37, 'MFIS 018': 37, 'FIM (TOT': 37, 'HADS 008': 35, 'MOCA 011': 35, 'HADS 010': 34, 'ABILH003': 34, 'RELAPS': 34, 'OAB-Q006': 33, 'MFIS SUB3': 33, 'EDINB006_2': 32, 'FIM (001': 32, 'MFIS 006': 32, 'HADS 006': 30, 'LIFE 001': 30, 'ABILH008': 29, 'OAB-Q004': 29, 'ABILH022': 28, 'WEIG': 28, 'PASATTOT': 28, 'ABILH011': 28, 'MFIS TOT': 27, 'MFIS 005': 27, 'LIFE 005': 27, 'MFIS 011': 25, 'ABILH014': 24, 'FIM (005': 23, 'MFIS 020': 23, 'EDINB003_1': 22, 'EDINB004_1': 21, 'MOCA 007': 21, 'ABILH006': 21, 'ABILH019': 21, 'EDINB008_1': 20, 'ABILH001': 20, 'ABILH004': 20, 'ABILH016': 20, 'EDINB007_1': 19, 'OAB-Q008': 19, 'FIM (SUB2': 18, 'FIM (018': 18, 'EDINB006_0': 18, 'EDINB009_2': 17, 'MFIS 013': 17, 'ABILH005': 17, 'ABILH013': 17, 'EDINB006_1': 16, 'MFIS 007': 16, 'EDINB002_1': 16, 'EDINB004_2': 15, 'MOCA 002': 15, 'MOCA 004': 15, 'MOCA 006': 15, 'MFIS 021': 15, 'ABILH010': 15, 'EDINB003_0': 15, 'EDINB008_0': 14, 'MOCA 003': 14, 'LIFE 007': 14, 'LIFE 009': 13, 'EDINB004_0': 12, 'MFIS 017': 12, 'EDINB008_2': 12, 'LIFE 003': 12, 'EDINB009_1': 11, 'MOCA 008': 11, 'ISTRU': 11, 'MFIS 004': 11, 'ABILH002': 11, 'LIFE 002': 11, 'EDINB005_0': 11, 'EDINB007_0': 10, 'EDINB010_0': 10, 'ABILH023': 10, 'EDINB010_1': 9, 'LIFE 008': 9, 'FIM (007': 9, 'LIFE 006': 9, 'EDINB005_1': 9, 'OAB-Q001': 8, 'EDINB009_0': 8, 'EDINB005_2': 8, 'FIM (SUB1': 7, 'EDINB007_2': 7, 'OAB-QTOT': 7, 'MOCA SUB1': 6, 'MOCA TOT': 6, 'FIM (SUB4': 5, 'EDINB010_2': 4, 'EDINB001_0': 4, 'EDINBSUB1': 3, 'EDINBTOT': 3})\n",
      "Counter({'HADS 013': 100, 'FIM (017': 100, 'FIM (012': 100, 'FIM (011': 100, 'HADS 007': 100, 'SDMT TOT': 100, 'ABILH018': 100, 'FIM (006': 98, 'FIM (010': 98, 'ABILH012': 98, 'FIM (008': 97, 'HADS 002': 96, 'FIM (016': 96, 'ABILH009': 96, 'EDINB001_2': 96, 'FIM (SUB5': 95, 'HADS 005': 94, 'FIM (002': 93, 'ABILH021': 93, 'FIM (009': 92, 'ABILH007': 90, 'FIM (003': 89, 'MFIS 002': 89, 'HEIG': 87, 'EDINB002_2': 86, 'FIM (015': 86, 'OAB-Q005': 86, 'MFIS 009': 86, 'FIM (004': 85, 'MOCA 009': 85, 'MOCA 011': 85, 'MFIS 014': 85, 'LIFE 011': 85, 'EDINB002_0': 84, 'HADS 012': 84, 'EDINB006_2': 84, 'ABILH020': 84, 'MFIS 003': 84, 'HADS 009': 83, 'MOCA 005': 83, 'ABILHSUB1': 83, 'HADS 003': 83, 'MFIS 012': 83, 'OAB-Q002': 83, 'EDINB001_1': 83, 'HADS TOT': 82, 'ABILH017': 82, 'EDINB003_2': 82, 'LIFE TOT': 81, 'LIFE 004': 81, 'MOCA 010': 80, 'OAB-Q007': 80, 'MFIS SUB1': 80, 'HADS 014': 79, 'HADS 001': 79, 'MFIS 005': 79, 'MFIS 001': 79, 'MFIS 008': 79, 'ABILH003': 79, 'LIFE 010': 79, 'ABILHTOT': 79, 'RELAPS': 79, 'HADS SUB1': 79, 'ABILH015': 78, 'MFIS 016': 78, 'MFIS 019': 78, 'OAB-Q004': 78, 'FIM (014': 77, 'FIM (019': 77, 'FIM (018': 77, 'MFIS 006': 77, 'WEIG': 77, 'LIFE 005': 77, 'LIFE 001': 77, 'ABILH011': 77, 'FIM (001': 76, 'FIM (SUB3': 76, 'HADS 011': 76, 'EDINB004_1': 76, 'ABILH008': 76, 'ABILH022': 76, 'MFIS 011': 76, 'OAB-Q003': 76, 'ABILH006': 76, 'MFIS SUB3': 76, 'MFIS 018': 75, 'HADS 010': 75, 'MOCA 001': 75, 'MOCA 007': 75, 'MFIS TOT': 75, 'MFIS 010': 75, 'ABILH016': 75, 'ABILH019': 75, 'FIM (005': 74, 'MOCA 004': 74, 'MOCA 006': 74, 'HADS 006': 74, 'HADS 004': 74, 'ABILH023': 74, 'MFIS 017': 74, 'OAB-Q008': 74, 'ABILH002': 74, 'HADS SUB2': 74, 'MFIS 020': 73, 'MFIS 015': 73, 'OAB-Q001': 73, 'PASATTOT': 73, 'EDINB009_2': 73, 'MFIS SUB2': 73, 'ABILH010': 73, 'ABILH013': 73, 'HADS 008': 72, 'ABILH004': 72, 'EDINB006_0': 72, 'OAB-Q006': 72, 'MFIS 004': 72, 'MFIS 007': 72, 'LIFE 009': 72, 'LIFE 007': 72, 'LIFE 002': 72, 'EDINB007_1': 72, 'EDINB008_0': 71, 'EDINB009_1': 71, 'EDINB004_0': 71, 'ABILH005': 71, 'ABILH014': 71, 'EDINB008_1': 71, 'MFIS 013': 71, 'LIFE 008': 71, 'LIFE 003': 71, 'EDINB005_0': 71, 'EDINB001_0': 71, 'EDINB003_0': 71, 'EDINB002_1': 71, 'FIM (SUB6': 70, 'FIM (SUB1': 70, 'EDINB004_2': 70, 'MOCA 002': 70, 'MOCA 003': 70, 'EDINB010_0': 70, 'EDINB010_1': 70, 'EDINB010_2': 70, 'MFIS 021': 70, 'EDINB003_1': 70, 'EDINB005_2': 70, 'EDINB007_0': 69, 'ISTRU': 69, 'EDINB006_1': 69, 'EDINBSUB1': 69, 'ABILH001': 69, 'EDINBTOT': 69, 'FIM (007': 68, 'FIM (SUB4': 68, 'MOCA TOT': 68, 'EDINB007_2': 68, 'FIM (013': 68, 'FIM (TOT': 68, 'EDINB008_2': 68, 'LIFE 006': 68, 'EDINB009_0': 68, 'EDINB005_1': 68, 'FIM (SUB2': 67, 'MOCA 008': 67, 'OAB-QTOT': 67, 'MOCA SUB1': 67})\n"
     ]
    }
   ],
   "source": [
    "from collections import Counter\n",
    "\n",
    "for name in names:\n",
    "    try:\n",
    "        print Counter(flatten([c.tolist() for c in coefs[name]]))\n",
    "    except:\n",
    "        print('{} not finished yet'.format(name))"
   ]
  },
  {
   "cell_type": "code",
   "execution_count": null,
   "metadata": {},
   "outputs": [],
   "source": []
  },
  {
   "cell_type": "code",
   "execution_count": null,
   "metadata": {},
   "outputs": [],
   "source": []
  }
 ],
 "metadata": {
  "kernelspec": {
   "display_name": "Python 2",
   "language": "python",
   "name": "python2"
  },
  "language_info": {
   "codemirror_mode": {
    "name": "ipython",
    "version": 2
   },
   "file_extension": ".py",
   "mimetype": "text/x-python",
   "name": "python",
   "nbconvert_exporter": "python",
   "pygments_lexer": "ipython2",
   "version": "2.7.14"
  }
 },
 "nbformat": 4,
 "nbformat_minor": 2
}
