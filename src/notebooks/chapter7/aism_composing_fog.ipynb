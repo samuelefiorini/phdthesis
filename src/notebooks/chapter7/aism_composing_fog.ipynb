{
 "cells": [
  {
   "cell_type": "code",
   "execution_count": 1,
   "metadata": {
    "collapsed": true,
    "deletable": true,
    "editable": true
   },
   "outputs": [],
   "source": [
    "%matplotlib inline"
   ]
  },
  {
   "cell_type": "markdown",
   "metadata": {
    "deletable": true,
    "editable": true
   },
   "source": [
    "# Composing `f o g`\n",
    "\n",
    "$f$ and $g$ are learned: let's try the final model on the test set.\n",
    "\n",
    "## 1. `import` stuff"
   ]
  },
  {
   "cell_type": "code",
   "execution_count": 2,
   "metadata": {
    "collapsed": false,
    "deletable": true,
    "editable": true
   },
   "outputs": [],
   "source": [
    "import os\n",
    "import pandas as pd\n",
    "import numpy as np\n",
    "import matplotlib.pyplot as plt\n",
    "import cPickle as pkl\n",
    "\n",
    "from sklearn import metrics\n",
    "from sklearn.pipeline import Pipeline\n",
    "# from adenine.utils.extensions import Imputer\n",
    "from fancyimpute import KNN\n",
    "from sklearn.preprocessing import MinMaxScaler"
   ]
  },
  {
   "cell_type": "markdown",
   "metadata": {
    "deletable": true,
    "editable": true
   },
   "source": [
    "## 2. Load data"
   ]
  },
  {
   "cell_type": "code",
   "execution_count": 4,
   "metadata": {},
   "outputs": [
    {
     "name": "stdout",
     "output_type": "stream",
     "text": [
      "(714, 145)\n",
      "(1946, 145)\n",
      "(942, 1)\n"
     ]
    }
   ],
   "source": [
    "data_ts_vvr = pd.read_csv('../../data/AISM/dataset_12-2017/vvr_dataset/vvr_test_data.csv', header=0, index_col=0)\n",
    "print(data_ts_vvr.shape)\n",
    "data_tr_vvr = pd.read_csv('../../data/AISM/dataset_12-2017/vvr_dataset/vvr_training_data.csv', header=0, index_col=0)\n",
    "print(data_tr_vvr.shape)\n",
    "labels_ts_clf = pd.read_csv('../../data/AISM/dataset_12-2017/labels_test.csv',  header=0, index_col=0)\n",
    "print(labels_ts_clf.shape)"
   ]
  },
  {
   "cell_type": "code",
   "execution_count": 5,
   "metadata": {
    "collapsed": true,
    "deletable": true,
    "editable": true
   },
   "outputs": [
    {
     "name": "stdout",
     "output_type": "stream",
     "text": [
      "['ID:101_S05' 'ID:105_S07' 'ID:106_S05' 'ID:106_S06' 'ID:106_S07'\n",
      " 'ID:106_S08' 'ID:106_S09' 'ID:106_S10' 'ID:108_S05' 'ID:108_S06'\n",
      " 'ID:108_S07' 'ID:108_S08' 'ID:108_S09' 'ID:111_S05' 'ID:111_S06'\n",
      " 'ID:111_S07' 'ID:114_S05' 'ID:114_S06' 'ID:114_S07' 'ID:114_S08'\n",
      " 'ID:114_S09' 'ID:114_S10' 'ID:121_S05' 'ID:122_S05' 'ID:122_S06'\n",
      " 'ID:122_S07' 'ID:122_S08' 'ID:123_S05' 'ID:123_S06' 'ID:123_S07'\n",
      " 'ID:123_S08' 'ID:123_S09' 'ID:127_S05' 'ID:127_S06' 'ID:129_S05'\n",
      " 'ID:129_S06' 'ID:131_S05' 'ID:131_S06' 'ID:132_S05' 'ID:133_S05'\n",
      " 'ID:133_S06' 'ID:133_S07' 'ID:133_S08' 'ID:138_S05' 'ID:138_S06'\n",
      " 'ID:138_S07' 'ID:148_S05' 'ID:148_S06' 'ID:151_S05' 'ID:151_S06'\n",
      " 'ID:151_S07' 'ID:151_S08' 'ID:157_S05' 'ID:157_S06' 'ID:157_S07'\n",
      " 'ID:163_S05' 'ID:163_S06' 'ID:165_S05' 'ID:165_S06' 'ID:165_S07'\n",
      " 'ID:169_S05' 'ID:169_S06' 'ID:173_S05' 'ID:177_S05' 'ID:177_S06'\n",
      " 'ID:177_S07' 'ID:177_S08' 'ID:184_S05' 'ID:184_S06' 'ID:184_S07'\n",
      " 'ID:184_S08' 'ID:188_S05' 'ID:188_S06' 'ID:192_S05' 'ID:192_S06'\n",
      " 'ID:195_S05' 'ID:195_S06' 'ID:197_S05' 'ID:19_S05' 'ID:19_S06'\n",
      " 'ID:205_S05' 'ID:205_S06' 'ID:205_S07' 'ID:207_S05' 'ID:207_S06'\n",
      " 'ID:207_S07' 'ID:211_S05' 'ID:211_S06' 'ID:212_S05' 'ID:212_S06'\n",
      " 'ID:216_S05' 'ID:216_S06' 'ID:216_S07' 'ID:224_S05' 'ID:224_S06'\n",
      " 'ID:224_S07' 'ID:224_S08' 'ID:224_S09' 'ID:225_S05' 'ID:233_S05'\n",
      " 'ID:233_S06' 'ID:237_S05' 'ID:237_S06' 'ID:237_S07' 'ID:238_S05'\n",
      " 'ID:241_S05' 'ID:241_S06' 'ID:241_S07' 'ID:241_S08' 'ID:242_S05'\n",
      " 'ID:244_S05' 'ID:244_S06' 'ID:244_S07' 'ID:244_S08' 'ID:250_S05'\n",
      " 'ID:250_S06' 'ID:250_S07' 'ID:251_S05' 'ID:251_S06' 'ID:251_S07'\n",
      " 'ID:254_S05' 'ID:254_S06' 'ID:254_S07' 'ID:254_S08' 'ID:256_S05'\n",
      " 'ID:256_S06' 'ID:256_S07' 'ID:256_S08' 'ID:257_S05' 'ID:257_S06'\n",
      " 'ID:259_S05' 'ID:271_S05' 'ID:271_S06' 'ID:271_S07' 'ID:271_S08'\n",
      " 'ID:271_S09' 'ID:274_S05' 'ID:274_S06' 'ID:274_S07' 'ID:275_S05'\n",
      " 'ID:275_S06' 'ID:275_S07' 'ID:27_S05' 'ID:27_S06' 'ID:27_S07'\n",
      " 'ID:284_S05' 'ID:284_S06' 'ID:284_S07' 'ID:286_S05' 'ID:286_S06'\n",
      " 'ID:287_S05' 'ID:287_S06' 'ID:290_S05' 'ID:290_S06' 'ID:292_S05'\n",
      " 'ID:292_S06' 'ID:292_S07' 'ID:293_S05' 'ID:293_S06' 'ID:293_S07'\n",
      " 'ID:295_S05' 'ID:295_S06' 'ID:295_S07' 'ID:297_S05' 'ID:299_S05'\n",
      " 'ID:299_S06' 'ID:29_S05' 'ID:2_S05' 'ID:2_S06' 'ID:300_S05' 'ID:302_S05'\n",
      " 'ID:303_S05' 'ID:307_S05' 'ID:307_S06' 'ID:307_S07' 'ID:307_S08'\n",
      " 'ID:310_S05' 'ID:310_S06' 'ID:310_S07' 'ID:310_S08' 'ID:311_S05'\n",
      " 'ID:321_S05' 'ID:321_S06' 'ID:322_S05' 'ID:326_S05' 'ID:326_S06'\n",
      " 'ID:326_S07' 'ID:329_S05' 'ID:329_S06' 'ID:335_S05' 'ID:335_S06'\n",
      " 'ID:336_S05' 'ID:336_S06' 'ID:337_S05' 'ID:337_S06' 'ID:337_S07'\n",
      " 'ID:338_S05' 'ID:338_S06' 'ID:340_S05' 'ID:343_S05' 'ID:343_S06'\n",
      " 'ID:343_S07' 'ID:352_S05' 'ID:357_S05' 'ID:357_S06' 'ID:359_S05'\n",
      " 'ID:359_S06' 'ID:359_S07' 'ID:361_S05' 'ID:361_S06' 'ID:361_S07'\n",
      " 'ID:361_S08' 'ID:366_S05' 'ID:366_S06' 'ID:366_S07' 'ID:366_S08'\n",
      " 'ID:368_S05' 'ID:370_S05' 'ID:371_S05' 'ID:371_S06' 'ID:371_S07'\n",
      " 'ID:375_S05' 'ID:375_S06' 'ID:375_S07' 'ID:375_S08' 'ID:379_S05'\n",
      " 'ID:379_S06' 'ID:379_S07' 'ID:382_S05' 'ID:382_S06' 'ID:382_S07'\n",
      " 'ID:382_S08' 'ID:382_S09' 'ID:385_S05' 'ID:385_S06' 'ID:385_S07'\n",
      " 'ID:389_S05' 'ID:389_S06' 'ID:389_S07' 'ID:389_S08' 'ID:391_S05'\n",
      " 'ID:391_S06' 'ID:394_S05' 'ID:39_S05' 'ID:39_S06' 'ID:405_S05'\n",
      " 'ID:405_S06' 'ID:405_S07' 'ID:407_S05' 'ID:40_S05' 'ID:410_S05'\n",
      " 'ID:410_S06' 'ID:410_S07' 'ID:410_S08' 'ID:415_S05' 'ID:422_S05'\n",
      " 'ID:422_S06' 'ID:422_S07' 'ID:422_S08' 'ID:427_S05' 'ID:427_S06'\n",
      " 'ID:42_S05' 'ID:42_S06' 'ID:432_S05' 'ID:432_S06' 'ID:432_S07'\n",
      " 'ID:435_S05' 'ID:435_S06' 'ID:435_S07' 'ID:435_S08' 'ID:437_S05'\n",
      " 'ID:437_S06' 'ID:437_S07' 'ID:440_S05' 'ID:440_S06' 'ID:441_S05'\n",
      " 'ID:441_S06' 'ID:444_S05' 'ID:444_S06' 'ID:444_S07' 'ID:444_S08'\n",
      " 'ID:447_S05' 'ID:447_S06' 'ID:447_S07' 'ID:447_S08' 'ID:44_S05'\n",
      " 'ID:44_S06' 'ID:44_S07' 'ID:454_S05' 'ID:454_S06' 'ID:472_S05'\n",
      " 'ID:472_S06' 'ID:472_S07' 'ID:472_S08' 'ID:472_S09' 'ID:473_S05'\n",
      " 'ID:473_S06' 'ID:473_S07' 'ID:476_S05' 'ID:480_S05' 'ID:480_S06'\n",
      " 'ID:484_S05' 'ID:485_S05' 'ID:485_S06' 'ID:48_S05' 'ID:492_S05'\n",
      " 'ID:492_S06' 'ID:492_S07' 'ID:492_S08' 'ID:493_S05' 'ID:493_S06'\n",
      " 'ID:516_S05' 'ID:516_S06' 'ID:517_S05' 'ID:517_S06' 'ID:517_S07'\n",
      " 'ID:517_S08' 'ID:517_S09' 'ID:51_S05' 'ID:51_S06' 'ID:51_S07' 'ID:51_S08'\n",
      " 'ID:522_S05' 'ID:522_S06' 'ID:522_S07' 'ID:528_S05' 'ID:528_S06'\n",
      " 'ID:52_S05' 'ID:52_S06' 'ID:52_S07' 'ID:53_S05' 'ID:53_S06' 'ID:53_S07'\n",
      " 'ID:541_S05' 'ID:541_S06' 'ID:545_S05' 'ID:545_S06' 'ID:545_S07'\n",
      " 'ID:546_S05' 'ID:546_S06' 'ID:546_S07' 'ID:546_S08' 'ID:546_S09'\n",
      " 'ID:548_S05' 'ID:548_S06' 'ID:548_S07' 'ID:555_S05' 'ID:555_S06'\n",
      " 'ID:555_S07' 'ID:555_S08' 'ID:555_S09' 'ID:555_S10' 'ID:557_S05'\n",
      " 'ID:557_S06' 'ID:557_S07' 'ID:558_S05' 'ID:558_S06' 'ID:558_S07'\n",
      " 'ID:560_S05' 'ID:560_S06' 'ID:562_S05' 'ID:562_S06' 'ID:564_S05'\n",
      " 'ID:564_S06' 'ID:565_S05' 'ID:565_S06' 'ID:567_S05' 'ID:567_S06'\n",
      " 'ID:56_S05' 'ID:56_S06' 'ID:575_S05' 'ID:575_S06' 'ID:575_S07'\n",
      " 'ID:576_S05' 'ID:576_S06' 'ID:576_S07' 'ID:599_S05' 'ID:599_S06'\n",
      " 'ID:602_S05' 'ID:602_S06' 'ID:602_S07' 'ID:603_S05' 'ID:603_S06'\n",
      " 'ID:603_S07' 'ID:603_S08' 'ID:603_S09' 'ID:607_S05' 'ID:608_S05'\n",
      " 'ID:608_S06' 'ID:60_S05' 'ID:610_S06' 'ID:613_S05' 'ID:613_S06'\n",
      " 'ID:613_S07' 'ID:614_S05' 'ID:614_S06' 'ID:614_S07' 'ID:617_S05'\n",
      " 'ID:617_S06' 'ID:617_S07' 'ID:618_S05' 'ID:618_S06' 'ID:624_S05'\n",
      " 'ID:625_S05' 'ID:625_S06' 'ID:625_S07' 'ID:626_S05' 'ID:626_S06'\n",
      " 'ID:627_S05' 'ID:627_S06' 'ID:627_S07' 'ID:629_S05' 'ID:629_S06'\n",
      " 'ID:62_S05' 'ID:62_S06' 'ID:630_S05' 'ID:631_S05' 'ID:634_S05'\n",
      " 'ID:634_S06' 'ID:638_S05' 'ID:638_S06' 'ID:638_S07' 'ID:638_S08'\n",
      " 'ID:638_S09' 'ID:646_S05' 'ID:646_S06' 'ID:655_S05' 'ID:655_S06'\n",
      " 'ID:655_S07' 'ID:662_S05' 'ID:662_S06' 'ID:662_S07' 'ID:662_S08'\n",
      " 'ID:670_S05' 'ID:672_S05' 'ID:672_S06' 'ID:676_S05' 'ID:676_S06'\n",
      " 'ID:678_S05' 'ID:67_S05' 'ID:67_S06' 'ID:684_S05' 'ID:684_S06'\n",
      " 'ID:689_S05' 'ID:689_S06' 'ID:690_S05' 'ID:690_S06' 'ID:690_S07'\n",
      " 'ID:690_S08' 'ID:690_S09' 'ID:693_S05' 'ID:693_S06' 'ID:695_S05'\n",
      " 'ID:698_S05' 'ID:698_S06' 'ID:705_S05' 'ID:706_S05' 'ID:706_S06'\n",
      " 'ID:708_S05' 'ID:708_S06' 'ID:708_S07' 'ID:708_S08' 'ID:710_S05'\n",
      " 'ID:710_S06' 'ID:710_S07' 'ID:710_S08' 'ID:710_S09' 'ID:730_S05'\n",
      " 'ID:730_S06' 'ID:735_S05' 'ID:739_S05' 'ID:739_S06' 'ID:739_S07'\n",
      " 'ID:741_S05' 'ID:741_S06' 'ID:741_S07' 'ID:74_S05' 'ID:74_S06'\n",
      " 'ID:74_S07' 'ID:751_S05' 'ID:751_S06' 'ID:752_S05' 'ID:752_S06'\n",
      " 'ID:752_S07' 'ID:754_S05' 'ID:75_S05' 'ID:75_S06' 'ID:75_S07'\n",
      " 'ID:761_S05' 'ID:761_S06' 'ID:761_S07' 'ID:766_S05' 'ID:77_S05'\n",
      " 'ID:781_S05' 'ID:781_S06' 'ID:781_S07' 'ID:784_S05' 'ID:784_S06'\n",
      " 'ID:784_S07' 'ID:784_S08' 'ID:788_S05' 'ID:788_S06' 'ID:788_S07'\n",
      " 'ID:788_S08' 'ID:791_S05' 'ID:794_S05' 'ID:794_S06' 'ID:794_S07'\n",
      " 'ID:79_S05' 'ID:802_S05' 'ID:802_S06' 'ID:803_S05' 'ID:803_S06'\n",
      " 'ID:803_S07' 'ID:803_S08' 'ID:804_S05' 'ID:804_S06' 'ID:804_S07'\n",
      " 'ID:804_S08' 'ID:812_S05' 'ID:812_S06' 'ID:818_S05' 'ID:818_S06'\n",
      " 'ID:818_S07' 'ID:820_S05' 'ID:821_S05' 'ID:823_S05' 'ID:823_S06'\n",
      " 'ID:829_S05' 'ID:82_S05' 'ID:82_S06' 'ID:82_S07' 'ID:82_S08' 'ID:835_S05'\n",
      " 'ID:835_S06' 'ID:839_S05' 'ID:839_S06' 'ID:839_S07' 'ID:839_S08'\n",
      " 'ID:839_S09' 'ID:83_S05' 'ID:83_S06' 'ID:842_S05' 'ID:842_S06'\n",
      " 'ID:844_S05' 'ID:844_S06' 'ID:844_S07' 'ID:846_S05' 'ID:846_S06'\n",
      " 'ID:846_S07' 'ID:846_S08' 'ID:856_S05' 'ID:862_S05' 'ID:863_S05'\n",
      " 'ID:86_S05' 'ID:86_S06' 'ID:870_S05' 'ID:870_S06' 'ID:870_S07'\n",
      " 'ID:871_S05' 'ID:871_S06' 'ID:878_S05' 'ID:878_S06' 'ID:878_S07'\n",
      " 'ID:878_S08' 'ID:879_S05' 'ID:879_S06' 'ID:886_S05' 'ID:886_S06'\n",
      " 'ID:886_S07' 'ID:887_S05' 'ID:887_S06' 'ID:894_S05' 'ID:894_S06'\n",
      " 'ID:894_S07' 'ID:894_S08' 'ID:898_S05' 'ID:898_S06' 'ID:898_S07'\n",
      " 'ID:898_S08' 'ID:903_S05' 'ID:903_S06' 'ID:903_S07' 'ID:907_S05'\n",
      " 'ID:907_S06' 'ID:907_S07' 'ID:911_S05' 'ID:913_S05' 'ID:913_S06'\n",
      " 'ID:914_S05' 'ID:915_S05' 'ID:915_S06' 'ID:915_S07' 'ID:919_S05'\n",
      " 'ID:919_S06' 'ID:919_S07' 'ID:919_S08' 'ID:919_S09' 'ID:91_S05'\n",
      " 'ID:91_S06' 'ID:91_S07' 'ID:91_S08' 'ID:926_S05' 'ID:92_S05' 'ID:931_S05'\n",
      " 'ID:937_S05' 'ID:937_S06' 'ID:937_S07' 'ID:937_S08' 'ID:940_S05'\n",
      " 'ID:940_S06' 'ID:942_S05' 'ID:942_S06' 'ID:942_S07' 'ID:9_S05' 'ID:9_S06']\n"
     ]
    }
   ],
   "source": [
    "# __data_tr = pd.read_csv('../learning_g/vvr_dataset_03-2017/vvr_training_data.csv', header=0, index_col=0)\n",
    "# data_ts_vvr = pd.read_csv('../learning_g/vvr_dataset_03-2017/vvr_test_data.csv', header=0, index_col=0)\n",
    "# labels_ts_clf = pd.read_csv('../../dataset_03-2017/labels_test.csv', header=0, index_col=0)\n",
    "\n",
    "idx = np.intersect1d(data_ts_vvr.index, labels_ts_clf.index)\n",
    "print(idx)"
   ]
  },
  {
   "cell_type": "code",
   "execution_count": 6,
   "metadata": {
    "collapsed": false,
    "deletable": true,
    "editable": true
   },
   "outputs": [
    {
     "name": "stdout",
     "output_type": "stream",
     "text": [
      "Imputing row 1/1946 with 0 missing, elapsed time: 2.398\n",
      "Imputing row 101/1946 with 8 missing, elapsed time: 2.402\n",
      "Imputing row 201/1946 with 2 missing, elapsed time: 2.407\n",
      "Imputing row 301/1946 with 3 missing, elapsed time: 2.411\n",
      "Imputing row 401/1946 with 2 missing, elapsed time: 2.417\n",
      "Imputing row 501/1946 with 0 missing, elapsed time: 2.420\n",
      "Imputing row 601/1946 with 0 missing, elapsed time: 2.425\n",
      "Imputing row 701/1946 with 1 missing, elapsed time: 2.428\n",
      "Imputing row 801/1946 with 0 missing, elapsed time: 2.430\n",
      "Imputing row 901/1946 with 2 missing, elapsed time: 2.434\n",
      "Imputing row 1001/1946 with 0 missing, elapsed time: 2.438\n",
      "Imputing row 1101/1946 with 3 missing, elapsed time: 2.441\n",
      "Imputing row 1201/1946 with 1 missing, elapsed time: 2.444\n",
      "Imputing row 1301/1946 with 0 missing, elapsed time: 2.447\n",
      "Imputing row 1401/1946 with 0 missing, elapsed time: 2.451\n",
      "Imputing row 1501/1946 with 2 missing, elapsed time: 2.455\n",
      "Imputing row 1601/1946 with 4 missing, elapsed time: 2.460\n",
      "Imputing row 1701/1946 with 0 missing, elapsed time: 2.463\n",
      "Imputing row 1801/1946 with 1 missing, elapsed time: 2.466\n",
      "Imputing row 1901/1946 with 0 missing, elapsed time: 2.469\n",
      "Imputing row 1/714 with 0 missing, elapsed time: 0.320\n",
      "Imputing row 101/714 with 4 missing, elapsed time: 0.324\n",
      "Imputing row 201/714 with 0 missing, elapsed time: 0.326\n",
      "Imputing row 301/714 with 27 missing, elapsed time: 0.329\n",
      "Imputing row 401/714 with 4 missing, elapsed time: 0.332\n",
      "Imputing row 501/714 with 2 missing, elapsed time: 0.337\n",
      "Imputing row 601/714 with 0 missing, elapsed time: 0.339\n",
      "Imputing row 701/714 with 0 missing, elapsed time: 0.342\n",
      "(616, 145)\n",
      "(616, 1)\n"
     ]
    }
   ],
   "source": [
    "# imp = Imputer(strategy='nn')\n",
    "pp = MinMaxScaler(feature_range=(0, 1))\n",
    "# data_pipe = Pipeline([('imputing', imp),\n",
    "#                      ('preproc', pp)])\n",
    "data_tr_vvr = pd.DataFrame(data=KNN(k=3).complete(data_tr_vvr.values), index=data_tr_vvr.index, columns=data_tr_vvr.columns)\n",
    "data_ts_vvr = pd.DataFrame(data=KNN(k=3).complete(data_ts_vvr.values), index=data_ts_vvr.index, columns=data_ts_vvr.columns)\n",
    "X_tr = pp.fit_transform(data_tr_vvr.values)\n",
    "\n",
    "X_ts = pp.transform(data_ts_vvr.loc[idx].values)\n",
    "labels_ts_clf = labels_ts_clf.loc[idx]\n",
    "\n",
    "print(X_ts.shape)\n",
    "print(labels_ts_clf.shape)"
   ]
  },
  {
   "cell_type": "code",
   "execution_count": 7,
   "metadata": {
    "collapsed": false
   },
   "outputs": [
    {
     "data": {
      "text/plain": [
       "0.6152597402597403"
      ]
     },
     "execution_count": 7,
     "metadata": {},
     "output_type": "execute_result"
    }
   ],
   "source": [
    "yy = np.where(labels_ts_clf.values == 'SP', 1, -1).ravel()\n",
    "\n",
    "0.5 + (np.abs(yy.sum())) / (len(yy)*2.0)"
   ]
  },
  {
   "cell_type": "markdown",
   "metadata": {
    "deletable": true,
    "editable": true
   },
   "source": [
    "## 3. Load best models"
   ]
  },
  {
   "cell_type": "code",
   "execution_count": 8,
   "metadata": {
    "collapsed": false,
    "deletable": true,
    "editable": true
   },
   "outputs": [
    {
     "name": "stdout",
     "output_type": "stream",
     "text": [
      "MultiTaskElasticNet(alpha=0.003359818286283781, copy_X=True,\n",
      "          fit_intercept=True, l1_ratio=1.0, max_iter=1000, normalize=False,\n",
      "          random_state=None, selection='cyclic', tol=0.0001,\n",
      "          warm_start=False)\n"
     ]
    },
    {
     "name": "stderr",
     "output_type": "stream",
     "text": [
      "/home/samu/miniconda2/lib/python2.7/site-packages/sklearn/base.py:311: UserWarning: Trying to unpickle estimator MultiTaskElasticNet from version 0.20.dev0 when using version 0.19.1. This might lead to breaking code or invalid results. Use at your own risk.\n",
      "  UserWarning)\n",
      "/home/samu/miniconda2/lib/python2.7/site-packages/sklearn/base.py:311: UserWarning: Trying to unpickle estimator GridSearchCV from version 0.20.dev0 when using version 0.19.1. This might lead to breaking code or invalid results. Use at your own risk.\n",
      "  UserWarning)\n"
     ]
    }
   ],
   "source": [
    "vvr = pkl.load(open('ENETVVR_estimator.pkl','rb')).best_estimator_\n",
    "print(vvr)"
   ]
  },
  {
   "cell_type": "code",
   "execution_count": 9,
   "metadata": {
    "collapsed": false,
    "deletable": true,
    "editable": true
   },
   "outputs": [
    {
     "name": "stderr",
     "output_type": "stream",
     "text": [
      "/home/samu/miniconda2/lib/python2.7/site-packages/sklearn/base.py:311: UserWarning: Trying to unpickle estimator MinMaxScaler from version 0.20.dev0 when using version 0.19.1. This might lead to breaking code or invalid results. Use at your own risk.\n",
      "  UserWarning)\n",
      "/home/samu/miniconda2/lib/python2.7/site-packages/sklearn/base.py:311: UserWarning: Trying to unpickle estimator DecisionTreeClassifier from version 0.20.dev0 when using version 0.19.1. This might lead to breaking code or invalid results. Use at your own risk.\n",
      "  UserWarning)\n"
     ]
    },
    {
     "name": "stdout",
     "output_type": "stream",
     "text": [
      "RandomForestClassifier(bootstrap=True, class_weight=None, criterion='gini',\n",
      "            max_depth=None, max_features=0.8111111111111111,\n",
      "            max_leaf_nodes=None, min_impurity_decrease=0.0,\n",
      "            min_impurity_split=None, min_samples_leaf=1,\n",
      "            min_samples_split=2, min_weight_fraction_leaf=0.0,\n",
      "            n_estimators=1000, n_jobs=1, oob_score=False,\n",
      "            random_state=None, verbose=0, warm_start=False)\n"
     ]
    },
    {
     "name": "stderr",
     "output_type": "stream",
     "text": [
      "/home/samu/miniconda2/lib/python2.7/site-packages/sklearn/base.py:311: UserWarning: Trying to unpickle estimator RandomForestClassifier from version 0.20.dev0 when using version 0.19.1. This might lead to breaking code or invalid results. Use at your own risk.\n",
      "  UserWarning)\n",
      "/home/samu/miniconda2/lib/python2.7/site-packages/sklearn/base.py:311: UserWarning: Trying to unpickle estimator Pipeline from version 0.20.dev0 when using version 0.19.1. This might lead to breaking code or invalid results. Use at your own risk.\n",
      "  UserWarning)\n"
     ]
    }
   ],
   "source": [
    "clf = pkl.load(open('winner_model.pkl', 'rb')).best_estimator_.steps[1][1]\n",
    "print(clf)"
   ]
  },
  {
   "cell_type": "markdown",
   "metadata": {
    "deletable": true,
    "editable": true
   },
   "source": [
    "## 4. Run predictions"
   ]
  },
  {
   "cell_type": "code",
   "execution_count": 10,
   "metadata": {
    "collapsed": true,
    "deletable": true,
    "editable": true
   },
   "outputs": [],
   "source": [
    "data_pred = vvr.predict(X_ts)\n",
    "data_pred.shape\n",
    "y_pred = clf.predict(data_pred)\n",
    "y_pred = np.where(y_pred == 1, 'SP', 'RR')"
   ]
  },
  {
   "cell_type": "code",
   "execution_count": 13,
   "metadata": {
    "collapsed": false,
    "deletable": true,
    "editable": true
   },
   "outputs": [
    {
     "name": "stdout",
     "output_type": "stream",
     "text": [
      "acc: 0.826298701299\n",
      "prec: 0.88202247191\n",
      "rcll: 0.828496042216\n",
      "f1: 0.854421768707\n",
      "mcc: 0.641579406002\n"
     ]
    }
   ],
   "source": [
    "print(\"acc: {}\".format(metrics.accuracy_score(labels_ts_clf.values, y_pred)))\n",
    "print(\"prec: {}\".format(metrics.precision_score(labels_ts_clf.values, y_pred, pos_label='SP')))\n",
    "print(\"rcll: {}\".format(metrics.recall_score(labels_ts_clf.values, y_pred, pos_label='SP')))\n",
    "print(\"f1: {}\".format(metrics.f1_score(labels_ts_clf.values, y_pred, pos_label='SP')))\n",
    "print(\"mcc: {}\".format(metrics.matthews_corrcoef(labels_ts_clf.values, y_pred)))"
   ]
  },
  {
   "cell_type": "code",
   "execution_count": 14,
   "metadata": {},
   "outputs": [
    {
     "data": {
      "text/plain": [
       "616"
      ]
     },
     "execution_count": 14,
     "metadata": {},
     "output_type": "execute_result"
    }
   ],
   "source": [
    "len(y_pred)"
   ]
  },
  {
   "cell_type": "code",
   "execution_count": 36,
   "metadata": {
    "collapsed": false,
    "deletable": true,
    "editable": true
   },
   "outputs": [],
   "source": [
    "cm = metrics.confusion_matrix(labels_ts_clf.values, y_pred)"
   ]
  },
  {
   "cell_type": "code",
   "execution_count": 41,
   "metadata": {
    "collapsed": false,
    "deletable": true,
    "editable": true
   },
   "outputs": [
    {
     "data": {
      "image/png": "[encoded data removed]",
      "text/plain": [
       "<matplotlib.figure.Figure at 0x7f637f8db890>"
      ]
     },
     "metadata": {},
     "output_type": "display_data"
    }
   ],
   "source": [
    "import seaborn as sns\n",
    "plt.clf()\n",
    "sns.heatmap(cm, annot=True, cmap=\"YlGnBu\", fmt='2.0f', cbar=False)\n",
    "plt.xticks([0.5,1.5], ['RR', 'SP'])\n",
    "plt.yticks([0.5,1.5], ['RR', 'SP']);"
   ]
  },
  {
   "cell_type": "code",
   "execution_count": 42,
   "metadata": {
    "collapsed": false,
    "deletable": true,
    "editable": true
   },
   "outputs": [
    {
     "data": {
      "text/plain": [
       "237"
      ]
     },
     "execution_count": 42,
     "metadata": {},
     "output_type": "execute_result"
    }
   ],
   "source": [
    "len(np.where(labels_ts_clf.values == 'RR')[0])"
   ]
  },
  {
   "cell_type": "code",
   "execution_count": 43,
   "metadata": {
    "collapsed": false,
    "deletable": true,
    "editable": true
   },
   "outputs": [
    {
     "data": {
      "text/plain": [
       "237"
      ]
     },
     "execution_count": 43,
     "metadata": {},
     "output_type": "execute_result"
    }
   ],
   "source": [
    "195+42"
   ]
  },
  {
   "cell_type": "code",
   "execution_count": null,
   "metadata": {
    "collapsed": true,
    "deletable": true,
    "editable": true
   },
   "outputs": [],
   "source": []
  }
 ],
 "metadata": {
  "anaconda-cloud": {},
  "kernelspec": {
   "display_name": "Python 2",
   "language": "python",
   "name": "python2"
  },
  "language_info": {
   "codemirror_mode": {
    "name": "ipython",
    "version": 2
   },
   "file_extension": ".py",
   "mimetype": "text/x-python",
   "name": "python",
   "nbconvert_exporter": "python",
   "pygments_lexer": "ipython2",
   "version": "2.7.14"
  }
 },
 "nbformat": 4,
 "nbformat_minor": 2
}
