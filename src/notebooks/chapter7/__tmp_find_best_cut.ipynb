{
 "cells": [
  {
   "cell_type": "code",
   "execution_count": 1,
   "metadata": {
    "collapsed": true
   },
   "outputs": [],
   "source": [
    "%matplotlib inline"
   ]
  },
  {
   "cell_type": "markdown",
   "metadata": {},
   "source": [
    "# Find the best cut on validation\n",
    "\n",
    "When the `palladio` experiments are over, use the validation set to define the best cut. Then save the best model trained on the full training + validation set.\n",
    "\n",
    "## `import` stuff"
   ]
  },
  {
   "cell_type": "code",
   "execution_count": 2,
   "metadata": {},
   "outputs": [
    {
     "name": "stdout",
     "output_type": "stream",
     "text": [
      "mpi4py module not found. Adenine cannot run on multiple machines.\n",
      "mpi4py module not found. PALLADIO cannot run on multiple machines.\n"
     ]
    }
   ],
   "source": [
    "import os\n",
    "import pandas as pd\n",
    "import numpy as np\n",
    "import time\n",
    "import matplotlib.pyplot as plt\n",
    "import warnings\n",
    "warnings.filterwarnings('ignore')\n",
    "\n",
    "from sklearn import metrics\n",
    "from sklearn.pipeline import Pipeline\n",
    "from sklearn.model_selection import GridSearchCV\n",
    "from adenine.utils.extensions import Imputer\n",
    "from sklearn.preprocessing import MinMaxScaler\n",
    "\n",
    "# Predictive models\n",
    "from palladio.wrappers import ElasticNetClassifier\n",
    "from parsimony_sklearn import L1L2GLClassifier\n",
    "from sklearn.ensemble import RandomForestClassifier, GradientBoostingClassifier\n",
    "from sklearn.svm import SVC\n",
    "from sklearn.linear_model import LogisticRegression\n",
    "\n",
    "# GL stuff\n",
    "import parsimony.functions.nesterov.gl as gl\n",
    "import parsimony.algorithms as algorithms"
   ]
  },
  {
   "cell_type": "markdown",
   "metadata": {},
   "source": [
    "## Load training & validation data"
   ]
  },
  {
   "cell_type": "code",
   "execution_count": 3,
   "metadata": {},
   "outputs": [
    {
     "name": "stdout",
     "output_type": "stream",
     "text": [
      "('TR', (1853, 165))\n",
      "('VLD', (398, 165))\n"
     ]
    }
   ],
   "source": [
    "data_tr = pd.read_csv('../dataset_03-2017/data_training.csv', header=0, index_col=0)\n",
    "labels_tr = pd.read_csv('../dataset_03-2017/labels_training.csv', header=0, index_col=0)\n",
    "print('TR', data_tr.shape)\n",
    "\n",
    "data_vld = pd.read_csv('../dataset_03-2017/data_validation.csv', header=0, index_col=0)\n",
    "labels_vld = pd.read_csv('../dataset_03-2017/labels_validation.csv', header=0, index_col=0)\n",
    "print('VLD', data_vld.shape)\n",
    "\n",
    "# Group questionnaires together\n",
    "variables = data_tr.columns\n",
    "# Get the first 3 letters: this will be the group ID\n",
    "heads = np.array([v[:3] for v in variables])\n",
    "# Group variables according the first letters of their name\n",
    "groups = [(np.where(heads == tag)[0]).tolist() for tag in np.unique(heads)]\n",
    "A = gl.linear_operator_from_groups(len(variables), groups)\n",
    "\n",
    "# Make the 'SP' as the positive class\n",
    "labels_tr = np.where(labels_tr.values.ravel() == 'SP', 1, -1)\n",
    "labels_vld = np.where(labels_vld.values.ravel() == 'SP', 1, -1)"
   ]
  },
  {
   "cell_type": "markdown",
   "metadata": {},
   "source": [
    "## Choose model\n",
    "\n",
    "Select the model among:\n",
    "1. Elastic-Net\n",
    "2. Logistic Regression\n",
    "3. Group Lasso\n",
    "4. Support Vector Machines\n",
    "5. Random Forests\n",
    "6. Gradient Boosting"
   ]
  },
  {
   "cell_type": "code",
   "execution_count": 4,
   "metadata": {
    "collapsed": true
   },
   "outputs": [],
   "source": [
    "models = {\n",
    "          'ENET': {'model': ElasticNetClassifier(),\n",
    "                   'params': {'classification__l1_ratio': np.linspace(0, 1, 10),\n",
    "                              'classification__alpha': np.logspace(-5, 1, 10)}},\n",
    "    \n",
    "          'LR': {'model': LogisticRegression(),\n",
    "                   'params': {'classification__penalty': ['l1'],\n",
    "                              'classification__C': np.logspace(-5, 1, 10)}},\n",
    "    \n",
    "         # 'GL0': {'model': L1L2GLClassifier(),\n",
    "         #        'params': {'classification__l2': [0.0],\n",
    "         #                   'classification__l1': np.logspace(-5, 1, 10),\n",
    "         #                   'classification__gl': np.logspace(-5, 1, 10),\n",
    "         #                   'classification__A': [A],\n",
    "         #                   'classification__algorithm': [algorithms.proximal.FISTA()],\n",
    "         #                   'classification__algorithm_params': [dict(max_iter=5000)]}},\n",
    "    \n",
    "          'SVM': {'model': SVC(),\n",
    "                  'params': {'classification__kernel': ['linear'],\n",
    "                             'classification__C': np.logspace(-3, 3, 10),\n",
    "                             'classification__gamma': np.logspace(-5, 1, 10)}},\n",
    "    \n",
    "          'RF': {'model': RandomForestClassifier(),\n",
    "                 'params': {'classification__max_features': [None, 'log2', 'sqrt', 0.5],\n",
    "                            'classification__min_samples_leaf': map(int, np.linspace(5, 100, 10)),\n",
    "                            'classification__oob_score': [True],\n",
    "                            'classification__n_estimators': [1000]}},\n",
    "    \n",
    "          'GB': {'model': GradientBoostingClassifier(),\n",
    "                 'params': {'classification__max_depth': map(int, np.linspace(50, 100, 10)),\n",
    "                            'classification__max_features': [None, 'log2', 'sqrt', 0.5],\n",
    "                            'classification__n_estimators': map(int, np.linspace(10, 200, 10)),\n",
    "                            'classification__learning_rate': [0.05]}}\n",
    "         }"
   ]
  },
  {
   "cell_type": "markdown",
   "metadata": {},
   "source": [
    "## Build the pipeline\n",
    "\n",
    "Define two utilities function to build the pipeline and its CV version."
   ]
  },
  {
   "cell_type": "code",
   "execution_count": 5,
   "metadata": {
    "collapsed": true
   },
   "outputs": [],
   "source": [
    "def build_pipeline(selected_model):\n",
    "    \"\"\"Build the MUCMD17 pipeline with the selected model.\"\"\"\n",
    "    imp = Imputer(strategy='nn') # TODO: uncomment this and comment next\n",
    "#     imp = Imputer(strategy='mean')\n",
    "    pp = MinMaxScaler(feature_range=(0, 1))\n",
    "    clf = models[selected_model]['model']\n",
    "    pipe = Pipeline([('imputing', imp),\n",
    "                     ('preproc', pp),\n",
    "                     ('classification', clf)])\n",
    "    return pipe\n",
    "\n",
    "def build_pipelineCV(selected_model):\n",
    "    \"\"\"Build the MUCMD17 pipeline with the selected model with param tuning via CV.\"\"\"\n",
    "    pipe = build_pipeline(selected_model)\n",
    "    return GridSearchCV(pipe, param_grid=models[selected_model]['params'],\n",
    "                        scoring='accuracy', n_jobs=-1,\n",
    "                        cv=3, error_score=-np.inf)"
   ]
  },
  {
   "cell_type": "markdown",
   "metadata": {},
   "source": [
    "## Get the variable ranking\n",
    "\n",
    "Load the variable ranking obtained from each model."
   ]
  },
  {
   "cell_type": "code",
   "execution_count": 7,
   "metadata": {
    "collapsed": true
   },
   "outputs": [],
   "source": [
    "for model in models.keys():\n",
    "    ranking = pd.read_csv(os.path.join('variable_rankings', model+'.txt'),\n",
    "                          sep=' : ', index_col=0, header=None,\n",
    "                          engine='python').dropna()\n",
    "    models[model]['ranking'] = ranking"
   ]
  },
  {
   "cell_type": "markdown",
   "metadata": {},
   "source": [
    "## Fit models with increasing size\n",
    "\n",
    "Use the variable ranking to make dataset of increasing dimension. Fit the model and validate on the validation set. Hence find the best cut."
   ]
  },
  {
   "cell_type": "code",
   "execution_count": null,
   "metadata": {
    "collapsed": true
   },
   "outputs": [],
   "source": [
    "#model = 'ENET'\n",
    "#model = 'SVM'\n",
    "#model = 'RF'\n",
    "model = 'GB'\n",
    "#model = 'LR'\n",
    "\n",
    "for model in models:\n",
    "    # Get the ranking\n",
    "    ranking = models[model]['ranking']\n",
    "\n",
    "    # Get the pipeline\n",
    "    pipe_cv = build_pipelineCV(model)\n",
    "\n",
    "    # First divide the variables in blocks according\n",
    "    # to their selection frequency (exclude features selected 0 times)\n",
    "    sel_thresholds = filter(lambda x: x>0, np.unique(ranking.values))\n",
    "\n",
    "    # Iterate on the thresholds and create the reduced subset of features\n",
    "    accuracies = []\n",
    "    for thresh in sel_thresholds:\n",
    "        idx = np.where(ranking.values >= thresh)[0]  # get the indexes of the variables selected more than thresh times\n",
    "        var = ranking.iloc[idx].index.tolist()  # get the actual variables list\n",
    "        X, y = data_tr[var].values, labels_tr  # make the smaller X and the the y\n",
    "\n",
    "        tic = time.time()\n",
    "        pipe_cv.fit(X, y)\n",
    "        toc = time.time()\n",
    "\n",
    "        y_pred = pipe_cv.predict(data_vld[var].values)\n",
    "        acc = metrics.accuracy_score(labels_vld, y_pred)\n",
    "        accuracies.append(acc)\n",
    "        print('[Thresh {:2.0f}] accuracy on vld: {:2.3f}'.format(thresh, acc))"
   ]
  },
  {
   "cell_type": "code",
   "execution_count": 10,
   "metadata": {},
   "outputs": [
    {
     "data": {
      "image/png": "[encoded data removed]",
      "text/plain": [
       "<matplotlib.figure.Figure at 0x7ffac69d67d0>"
      ]
     },
     "metadata": {},
     "output_type": "display_data"
    }
   ],
   "source": [
    "best_cut = sel_thresholds[np.where(accuracies == max(accuracies))[0][-1]]\n",
    "best_cut_idx = np.where(ranking.values >= best_cut)[0]\n",
    "selected_variables = ranking.iloc[best_cut_idx].index.tolist()\n",
    "\n",
    "ranking.loc[selected_variables].to_csv(os.path.join('selected_variables', model+'_selected.csv'))\n",
    "\n",
    "plt.plot(sel_thresholds, accuracies, '--o', label=model+' accuracy')\n",
    "plt.axvline(best_cut, c='indianred', label='best cut = {}%'.format(best_cut))\n",
    "plt.xlabel('Selection threshold')\n",
    "plt.ylabel('Prediction accuracy on validation set')\n",
    "plt.ylim([0.8, 0.9])\n",
    "plt.legend()\n",
    "plt.title(model+' selected {} variables'.format(len(selected_variables)))\n",
    "plt.savefig(os.path.join('selected_variables', model+'_best_cut.png'));"
   ]
  },
  {
   "cell_type": "code",
   "execution_count": null,
   "metadata": {
    "collapsed": true
   },
   "outputs": [],
   "source": []
  }
 ],
 "metadata": {
  "kernelspec": {
   "display_name": "Python 2",
   "language": "python",
   "name": "python2"
  },
  "language_info": {
   "codemirror_mode": {
    "name": "ipython",
    "version": 2
   },
   "file_extension": ".py",
   "mimetype": "text/x-python",
   "name": "python",
   "nbconvert_exporter": "python",
   "pygments_lexer": "ipython2",
   "version": "2.7.14"
  }
 },
 "nbformat": 4,
 "nbformat_minor": 2
}
