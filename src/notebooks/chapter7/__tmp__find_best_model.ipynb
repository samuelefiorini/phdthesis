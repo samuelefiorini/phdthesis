{
 "cells": [
  {
   "cell_type": "code",
   "execution_count": 1,
   "metadata": {
    "collapsed": true
   },
   "outputs": [],
   "source": [
    "%matplotlib inline"
   ]
  },
  {
   "cell_type": "markdown",
   "metadata": {},
   "source": [
    "# Find the best model\n",
    "\n",
    "Once the best cut for each model is identified, train each model on `data_training + data_validation` and test on `data_test`. This will define the **winning** model.\n",
    "\n",
    "## `import` stuff"
   ]
  },
  {
   "cell_type": "code",
   "execution_count": 2,
   "metadata": {
    "collapsed": false
   },
   "outputs": [],
   "source": [
    "import os\n",
    "import pandas as pd\n",
    "import numpy as np\n",
    "import scipy as sp\n",
    "import time\n",
    "import matplotlib.pyplot as plt\n",
    "import cPickle as pkl\n",
    "import warnings\n",
    "warnings.filterwarnings('ignore')\n",
    "\n",
    "from sklearn import metrics\n",
    "from sklearn.pipeline import Pipeline\n",
    "from sklearn.model_selection import GridSearchCV\n",
    "from adenine.utils.extensions import Imputer\n",
    "from sklearn.preprocessing import MinMaxScaler\n",
    "\n",
    "# Predictive models\n",
    "from palladio.wrappers import ElasticNetClassifier\n",
    "from parsimony_sklearn import L1L2GLClassifier\n",
    "from sklearn.ensemble import RandomForestClassifier, GradientBoostingClassifier\n",
    "from sklearn.svm import SVC\n",
    "from sklearn.linear_model import LogisticRegression\n",
    "\n",
    "# GL stuff\n",
    "import parsimony.functions.nesterov.gl as gl\n",
    "import parsimony.algorithms as algorithms"
   ]
  },
  {
   "cell_type": "markdown",
   "metadata": {},
   "source": [
    "## Load training & validation data\n",
    "\n",
    "And merge them."
   ]
  },
  {
   "cell_type": "code",
   "execution_count": 3,
   "metadata": {
    "collapsed": false
   },
   "outputs": [
    {
     "name": "stdout",
     "output_type": "stream",
     "text": [
      "('TR', (1853, 165))\n",
      "('VLD', (398, 165))\n",
      "('TRVLD', (2251, 165))\n"
     ]
    }
   ],
   "source": [
    "data_tr = pd.read_csv('../../dataset_03-2017/data_training.csv', header=0, index_col=0)\n",
    "labels_tr = pd.read_csv('../../dataset_03-2017/labels_training.csv', header=0, index_col=0)\n",
    "print('TR', data_tr.shape)\n",
    "\n",
    "data_vld = pd.read_csv('../../dataset_03-2017/data_validation.csv', header=0, index_col=0)\n",
    "labels_vld = pd.read_csv('../../dataset_03-2017/labels_validation.csv', header=0, index_col=0)\n",
    "print('VLD', data_vld.shape)\n",
    "\n",
    "data_trvld = pd.concat((data_tr, data_vld))\n",
    "labels_trvld = pd.concat((labels_tr, labels_vld))\n",
    "print('TRVLD', data_trvld.shape)\n",
    "\n",
    "# Group questionnaires together\n",
    "variables = data_tr.columns\n",
    "# Get the first 3 letters: this will be the group ID\n",
    "heads = np.array([v[:3] for v in variables])\n",
    "# Group variables according the first letters of their name\n",
    "groups = [(np.where(heads == tag)[0]).tolist() for tag in np.unique(heads)]\n",
    "A = gl.linear_operator_from_groups(len(variables), groups)\n",
    "\n",
    "# Make the 'SP' as the positive class\n",
    "labels_trvld = np.where(labels_trvld.values.ravel() == 'SP', 1, -1)"
   ]
  },
  {
   "cell_type": "markdown",
   "metadata": {},
   "source": [
    "## Load test data"
   ]
  },
  {
   "cell_type": "code",
   "execution_count": 4,
   "metadata": {
    "collapsed": false
   },
   "outputs": [
    {
     "name": "stdout",
     "output_type": "stream",
     "text": [
      "('TS', (448, 165))\n"
     ]
    }
   ],
   "source": [
    "data_ts = pd.read_csv('../../dataset_03-2017/data_test.csv', header=0, index_col=0)\n",
    "labels_ts = pd.read_csv('../../dataset_03-2017/labels_test.csv', header=0, index_col=0)\n",
    "print('TS', data_ts.shape)\n",
    "\n",
    "# Make the 'SP' as the positive class\n",
    "labels_ts = np.where(labels_ts.values.ravel() == 'SP', 1, -1)"
   ]
  },
  {
   "cell_type": "markdown",
   "metadata": {},
   "source": [
    "## Build pipeline & define model parameter range"
   ]
  },
  {
   "cell_type": "code",
   "execution_count": 5,
   "metadata": {
    "collapsed": true
   },
   "outputs": [],
   "source": [
    "def build_pipeline(selected_model):\n",
    "    \"\"\"Build the MUCMD17 pipeline with the selected model.\"\"\"\n",
    "#    imp = Imputer(strategy='nn') # TODO: uncomment this and comment next\n",
    "    imp = Imputer(strategy='mean')\n",
    "    pp = MinMaxScaler(feature_range=(0, 1))\n",
    "    clf = models[selected_model]['model']\n",
    "    pipe = Pipeline([('imputing', imp),\n",
    "                     ('preproc', pp),\n",
    "                     ('classification', clf)])\n",
    "    return pipe\n",
    "\n",
    "def build_pipelineCV(selected_model):\n",
    "    \"\"\"Build the MUCMD17 pipeline with the selected model with param tuning via CV.\"\"\"\n",
    "    pipe = build_pipeline(selected_model)\n",
    "    return GridSearchCV(pipe, param_grid=models[selected_model]['params'],\n",
    "                        scoring='accuracy', n_jobs=-1,\n",
    "                        cv=3, error_score=-np.inf)\n",
    "\n",
    "models = {\n",
    "          'ENET': {'model': ElasticNetClassifier(),\n",
    "                   'params': {'classification__l1_ratio': np.linspace(0, 1, 10),\n",
    "                              'classification__alpha': np.logspace(-5, 1, 10)}},\n",
    "    \n",
    "          'SLR': {'model': LogisticRegression(),\n",
    "                   'params': {'classification__penalty': ['l1'],\n",
    "                              'classification__C': np.logspace(-5, 1, 10)}},\n",
    "    \n",
    "#           'GL0': {'model': L1L2GLClassifier(),\n",
    "#                  'params': {'classification__l2': [0.0],\n",
    "#                             'classification__l1': np.logspace(-5, 1, 10),\n",
    "#                             'classification__gl': np.logspace(-5, 1, 10),\n",
    "#                             'classification__A': [A],\n",
    "#                             'classification__algorithm': [algorithms.proximal.FISTA()],\n",
    "#                             'classification__algorithm_params': [dict(max_iter=5000)]}},\n",
    "    \n",
    "          'SVM': {'model': SVC(),\n",
    "                  'params': {'classification__kernel': ['linear'],\n",
    "                             'classification__C': np.logspace(-3, 3, 10),\n",
    "                             'classification__gamma': np.logspace(-5, 1, 10)}},\n",
    "    \n",
    "          'RF': {'model': RandomForestClassifier(),\n",
    "                 'params': {'classification__max_features': [None, 'log2', 'sqrt', 0.5],\n",
    "                            'classification__min_samples_leaf': map(int, np.linspace(5, 100, 10)),\n",
    "                            'classification__oob_score': [True],\n",
    "                            'classification__n_estimators': [1000]}},\n",
    "    \n",
    "          'GB': {'model': GradientBoostingClassifier(),\n",
    "                 'params': {'classification__max_depth': map(int, np.linspace(50, 100, 10)),\n",
    "                            'classification__max_features': [None, 'log2', 'sqrt', 0.5],\n",
    "                            'classification__n_estimators': map(int, np.linspace(10, 200, 10)),\n",
    "                            'classification__learning_rate': [0.05]}}\n",
    "         }"
   ]
  },
  {
   "cell_type": "markdown",
   "metadata": {},
   "source": [
    "## Get model signature\n",
    "\n",
    "Load the model signature from the corresponding `txt` file and add it to the `models` dictionary."
   ]
  },
  {
   "cell_type": "code",
   "execution_count": 7,
   "metadata": {
    "collapsed": false
   },
   "outputs": [
    {
     "name": "stdout",
     "output_type": "stream",
     "text": [
      "105\n",
      "39\n",
      "30\n",
      "32\n",
      "32\n"
     ]
    }
   ],
   "source": [
    "for model in models.keys():\n",
    "    ranking = pd.read_csv(os.path.join('selected_variables_wTOT', model+'_selected.csv'),\n",
    "                          sep=',', index_col=0, header=0,\n",
    "                          engine='python').index.tolist()\n",
    "    models[model]['selected'] = ranking\n",
    "    print(len(ranking))"
   ]
  },
  {
   "cell_type": "markdown",
   "metadata": {},
   "source": [
    "## Models competition\n",
    "\n",
    "Fit each model on its signature and measure the prediction scores on the test set."
   ]
  },
  {
   "cell_type": "code",
   "execution_count": 8,
   "metadata": {
    "collapsed": true
   },
   "outputs": [],
   "source": [
    "def measure_scores(y_true, y_pred):\n",
    "    acc = metrics.accuracy_score(y_true, y_pred)\n",
    "    prec = metrics.precision_score(y_true, y_pred)\n",
    "    rcll = metrics.recall_score(y_true, y_pred)\n",
    "    f1 = metrics.f1_score(y_true, y_pred)\n",
    "    return acc, prec, rcll, f1"
   ]
  },
  {
   "cell_type": "code",
   "execution_count": 10,
   "metadata": {
    "collapsed": false
   },
   "outputs": [
    {
     "name": "stdout",
     "output_type": "stream",
     "text": [
      "ENET acc: 0.801339285714 | prec: 0.923423423423 | rcll: 0.740072202166 | f1: 0.821643286573\n",
      "SVM acc: 0.796875 | prec: 0.922727272727 | rcll: 0.73285198556 | f1: 0.816901408451\n",
      "RF acc: 0.852678571429 | prec: 0.916996047431 | rcll: 0.837545126354 | f1: 0.875471698113\n",
      "SLR acc: 0.810267857143 | prec: 0.903361344538 | rcll: 0.776173285199 | f1: 0.834951456311\n",
      "GB acc: 0.899553571429 | prec: 0.936090225564 | rcll: 0.898916967509 | f1: 0.917127071823\n"
     ]
    }
   ],
   "source": [
    "# Score containers\n",
    "acc_dict = {}\n",
    "prec_dict = {}\n",
    "rcll_dict = {}\n",
    "f1_dict = {}\n",
    "\n",
    "for model in models:\n",
    "    pipe = build_pipelineCV(model)\n",
    "    selected = models[model]['selected']\n",
    "    \n",
    "    # Select the variables and build the training set\n",
    "    X, y = data_trvld[selected].values, labels_trvld\n",
    "    \n",
    "    # Select the variables and build the test set\n",
    "    X_ts, y_ts = data_ts[selected].values, labels_ts\n",
    "    \n",
    "#     # Fit the model\n",
    "#     pipe.fit(X, y)\n",
    "    \n",
    "#     # Save it\n",
    "#     with open(os.path.join('best_models', model+'_estimator.pkl'), 'wb') as dd:\n",
    "#         pkl.dump(pipe, dd)\n",
    "    \n",
    "    # Load it\n",
    "    with open(os.path.join('best_models_wTOT', model+'_estimator.pkl'), 'rb') as dd:\n",
    "        pipe = pkl.load(dd)\n",
    "    \n",
    "        \n",
    "    # Measure scores\n",
    "    y_pred = pipe.predict(X_ts)\n",
    "    acc_dict[model], prec_dict[model], rcll_dict[model], f1_dict[model] = measure_scores(y_ts, y_pred)\n",
    "    print('{} acc: {} | prec: {} | rcll: {} | f1: {}'.format(model, acc_dict[model],\n",
    "                                                             prec_dict[model], rcll_dict[model], f1_dict[model]))"
   ]
  },
  {
   "cell_type": "markdown",
   "metadata": {},
   "source": [
    "## Make plots\n",
    "\n",
    "### Performance bar charts"
   ]
  },
  {
   "cell_type": "code",
   "execution_count": 11,
   "metadata": {
    "collapsed": false
   },
   "outputs": [
    {
     "data": {
      "image/png": "[encoded data removed]",
      "text/plain": [
       "<matplotlib.figure.Figure at 0x7f50929cbed0>"
      ]
     },
     "metadata": {},
     "output_type": "display_data"
    }
   ],
   "source": [
    "# plt.rcdefaults()\n",
    "\n",
    "ind = np.arange(len(models.keys()))  # the x locations for the groups\n",
    "width = 0.20      # the width of the bars\n",
    "\n",
    "plt.bar(ind, [acc_dict[k] for k in acc_dict.keys()], width, label='Accuracy', color='royalblue')\n",
    "plt.bar(ind+width, [prec_dict[k] for k in prec_dict.keys()], width, label='Precision', color='forestgreen')\n",
    "plt.bar(ind+2*width, [rcll_dict[k] for k in rcll_dict.keys()], width, label='Recall', color='indianred')\n",
    "plt.bar(ind+3*width, [f1_dict[k] for k in f1_dict.keys()], width, label=r'$F_1$ score', color='orange')\n",
    "plt.xticks(ind+width, models.keys())\n",
    "plt.legend(bbox_to_anchor=(0., 1.02, 1., .102), loc=3,\n",
    "           ncol=2, mode=\"expand\", borderaxespad=0.)\n",
    "plt.ylim([0.5, 1])\n",
    "plt.savefig('final_scores_1.png')\n",
    "plt.savefig('final_scores_1.pdf');"
   ]
  },
  {
   "cell_type": "code",
   "execution_count": 13,
   "metadata": {
    "collapsed": false
   },
   "outputs": [
    {
     "data": {
      "image/png": "[encoded data removed]",
      "text/plain": [
       "<matplotlib.figure.Figure at 0x7f509628ced0>"
      ]
     },
     "metadata": {},
     "output_type": "display_data"
    }
   ],
   "source": [
    "plt.rcdefaults()\n",
    "width = 0.7\n",
    "\n",
    "plt.subplot(221)\n",
    "plt.title('Accuracy')\n",
    "plt.bar(ind, [acc_dict[k] for k in acc_dict.keys()], width, color='royalblue')\n",
    "plt.xticks(ind, models.keys())\n",
    "plt.ylim([0.5, 1])\n",
    "\n",
    "plt.subplot(222)\n",
    "plt.title('Precision')\n",
    "plt.bar(ind, [prec_dict[k] for k in prec_dict.keys()], width, color='forestgreen')\n",
    "plt.xticks(ind, models.keys())\n",
    "plt.ylim([0.5, 1])\n",
    "\n",
    "plt.subplot(223)\n",
    "plt.title('Recall')\n",
    "plt.bar(ind, [rcll_dict[k] for k in rcll_dict.keys()], width, color='indianred')\n",
    "plt.xticks(ind, models.keys())\n",
    "plt.ylim([0.5, 1])\n",
    "\n",
    "plt.subplot(224)\n",
    "plt.title(r'$F_1$ score')\n",
    "plt.bar(ind, [f1_dict[k] for k in f1_dict.keys()], width, color='orange')\n",
    "plt.xticks(ind, models.keys())\n",
    "plt.ylim([0.5, 1])\n",
    "\n",
    "plt.tight_layout()\n",
    "\n",
    "plt.savefig('final_scores_2.png')\n",
    "plt.savefig('final_scores_2.pdf');"
   ]
  },
  {
   "cell_type": "code",
   "execution_count": null,
   "metadata": {
    "collapsed": true
   },
   "outputs": [],
   "source": []
  },
  {
   "cell_type": "markdown",
   "metadata": {},
   "source": [
    "### Canberra distance heatmap"
   ]
  },
  {
   "cell_type": "code",
   "execution_count": 17,
   "metadata": {
    "collapsed": false
   },
   "outputs": [
    {
     "name": "stdout",
     "output_type": "stream",
     "text": [
      "105\n",
      "32\n",
      "39\n",
      "30\n",
      "32\n"
     ]
    }
   ],
   "source": [
    "selected_list = []\n",
    "\n",
    "for model in ['ENET', 'SLR', 'SVM', 'RF', 'GB']:#models.keys():\n",
    "    selected = models[model]['selected']\n",
    "    print(len(selected))\n",
    "    selected_list.append(selected)"
   ]
  },
  {
   "cell_type": "code",
   "execution_count": 18,
   "metadata": {
    "collapsed": false
   },
   "outputs": [
    {
     "name": "stdout",
     "output_type": "stream",
     "text": [
      "[[ 0.          0.44242424  0.48484848  0.66060606  0.66060606]\n",
      " [ 0.44242424  0.          0.21212121  0.29090909  0.3030303 ]\n",
      " [ 0.48484848  0.21212121  0.          0.2969697   0.27272727]\n",
      " [ 0.66060606  0.29090909  0.2969697   0.          0.06060606]\n",
      " [ 0.66060606  0.3030303   0.27272727  0.06060606  0.        ]]\n"
     ]
    }
   ],
   "source": [
    "heatmap = np.empty((len(selected_list), len(selected_list)))\n",
    "for i in range(len(selected_list)):\n",
    "    for j in range(len(selected_list)):\n",
    "        x = sum([data_tr.columns == k for k in selected_list[i]])\n",
    "        y = sum([data_tr.columns == k for k in selected_list[j]])\n",
    "        heatmap[i, j] = sp.spatial.distance.hamming(x, y)\n",
    "print(heatmap)"
   ]
  },
  {
   "cell_type": "code",
   "execution_count": 19,
   "metadata": {
    "collapsed": false
   },
   "outputs": [
    {
     "data": {
      "image/png": "[encoded data removed]",
      "text/plain": [
       "<matplotlib.figure.Figure at 0x7f5092ad60d0>"
      ]
     },
     "metadata": {},
     "output_type": "display_data"
    }
   ],
   "source": [
    "import seaborn as sns\n",
    "plt.clf()\n",
    "sns.heatmap(heatmap, annot=True, cmap=\"YlGnBu\")\n",
    "plt.xticks(0.5+np.arange(len(selected_list)), ['ENET', 'SLR', 'SVM', 'RF', 'GB'])\n",
    "plt.yticks(0.5+np.arange(len(selected_list)), ['ENET', 'SLR', 'SVM', 'RF', 'GB'][::-1])\n",
    "plt.savefig('selection_heatmap.png')\n",
    "plt.savefig('selection_heatmap.pdf');"
   ]
  },
  {
   "cell_type": "code",
   "execution_count": null,
   "metadata": {
    "collapsed": true
   },
   "outputs": [],
   "source": []
  }
 ],
 "metadata": {
  "anaconda-cloud": {},
  "kernelspec": {
   "display_name": "Python 2",
   "language": "python",
   "name": "python2"
  },
  "language_info": {
   "codemirror_mode": {
    "name": "ipython",
    "version": 2
   },
   "file_extension": ".py",
   "mimetype": "text/x-python",
   "name": "python",
   "nbconvert_exporter": "python",
   "pygments_lexer": "ipython2",
   "version": "2.7.14"
  }
 },
 "nbformat": 4,
 "nbformat_minor": 2
}
